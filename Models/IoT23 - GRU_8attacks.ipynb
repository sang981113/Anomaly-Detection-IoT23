{
 "cells": [
  {
   "cell_type": "code",
   "execution_count": 1,
   "id": "floating-offense",
   "metadata": {},
   "outputs": [],
   "source": [
    "import numpy as np\n",
    "import pandas as pd\n",
    "import tensorflow as tf\n",
    "import matplotlib.pyplot as plt\n",
    "from tensorflow.keras import Model\n",
    "from tensorflow.keras import Sequential\n",
    "from tensorflow.keras.models import Sequential, Model\n",
    "from tensorflow.keras.layers import Conv2D, Input, Dropout, Activation, Dense, MaxPooling2D, Flatten, GlobalAveragePooling2D\n",
    "from tensorflow.keras.optimizers import Adadelta\n",
    "from tensorflow.keras.callbacks import ModelCheckpoint\n",
    "from tensorflow.keras.layers import Dense\n",
    "from tensorflow.keras.layers import LSTM, GRU\n",
    "import sklearn\n",
    "from sklearn.preprocessing import MinMaxScaler"
   ]
  },
  {
   "cell_type": "code",
   "execution_count": 2,
   "id": "1a47b15b",
   "metadata": {},
   "outputs": [],
   "source": [
    "import os\n",
    "\n",
    "os.environ['CUDA_VISIBLE_DEVICES'] = '1'\n",
    "os.environ['TF_FORCE_GPU_ALLOW_GROWTH'] = 'true'"
   ]
  },
  {
   "cell_type": "code",
   "execution_count": 3,
   "id": "f881923c",
   "metadata": {},
   "outputs": [],
   "source": [
    "filepath = \"iot23_sequential_benign&malicious.csv\"\n",
    "df_all = pd.read_csv(filepath)"
   ]
  },
  {
   "cell_type": "code",
   "execution_count": 4,
   "id": "c371f307",
   "metadata": {},
   "outputs": [],
   "source": [
    "filepath = \"iot23_sequential_benign.csv\"\n",
    "df_benign = pd.read_csv(filepath)"
   ]
  },
  {
   "cell_type": "code",
   "execution_count": 5,
   "id": "9340e7d6",
   "metadata": {},
   "outputs": [],
   "source": [
    "filepath = \"iot23_sequential_mirai.csv\"\n",
    "df_mirai = pd.read_csv(filepath)"
   ]
  },
  {
   "cell_type": "code",
   "execution_count": 6,
   "id": "d77ce5fa",
   "metadata": {},
   "outputs": [],
   "source": [
    "filepath = \"iot23_sequential_kenjiro.csv\"\n",
    "df_kenjiro = pd.read_csv(filepath)"
   ]
  },
  {
   "cell_type": "code",
   "execution_count": 7,
   "id": "77cacb40",
   "metadata": {},
   "outputs": [],
   "source": [
    "filepath = \"iot23_sequential_ircbot.csv\"\n",
    "df_ircbot = pd.read_csv(filepath)"
   ]
  },
  {
   "cell_type": "code",
   "execution_count": 8,
   "id": "e1a3dfe8",
   "metadata": {},
   "outputs": [],
   "source": [
    "filepath = \"iot23_sequential_okiru.csv\"\n",
    "df_okiru = pd.read_csv(filepath)"
   ]
  },
  {
   "cell_type": "code",
   "execution_count": 9,
   "id": "044d11e1",
   "metadata": {},
   "outputs": [],
   "source": [
    "filepath = \"iot23_sequential_gagfyt.csv\"\n",
    "df_gagfyt = pd.read_csv(filepath)"
   ]
  },
  {
   "cell_type": "code",
   "execution_count": 10,
   "id": "70cf5b7e",
   "metadata": {},
   "outputs": [],
   "source": [
    "filepath = \"iot23_sequential_hideandseek.csv\"\n",
    "df_hideandseek = pd.read_csv(filepath)"
   ]
  },
  {
   "cell_type": "code",
   "execution_count": 11,
   "id": "51edce70",
   "metadata": {},
   "outputs": [],
   "source": [
    "filepath = \"iot23_sequential_hakai.csv\"\n",
    "df_hakai = pd.read_csv(filepath)"
   ]
  },
  {
   "cell_type": "code",
   "execution_count": 12,
   "id": "e52f23e4",
   "metadata": {},
   "outputs": [],
   "source": [
    "filepath = \"iot23_sequential_torii.csv\"\n",
    "df_torii = pd.read_csv(filepath)"
   ]
  },
  {
   "cell_type": "code",
   "execution_count": 13,
   "id": "paperback-heritage",
   "metadata": {},
   "outputs": [],
   "source": [
    "del df_all['Unnamed: 0']\n",
    "del df_benign['Unnamed: 0']\n",
    "del df_mirai['Unnamed: 0']\n",
    "del df_kenjiro['Unnamed: 0']\n",
    "del df_ircbot['Unnamed: 0']\n",
    "del df_okiru['Unnamed: 0']\n",
    "del df_gagfyt['Unnamed: 0']\n",
    "del df_hideandseek['Unnamed: 0']\n",
    "del df_hakai['Unnamed: 0']\n",
    "del df_torii['Unnamed: 0']"
   ]
  },
  {
   "cell_type": "code",
   "execution_count": 14,
   "id": "bb8832a1",
   "metadata": {},
   "outputs": [
    {
     "name": "stdout",
     "output_type": "stream",
     "text": [
      "(1444654, 520)\n",
      "(192079, 520)\n",
      "(391101, 520)\n",
      "(197396, 520)\n",
      "(196808, 520)\n",
      "(99958, 520)\n",
      "(99496, 520)\n",
      "(55023, 520)\n",
      "(8202, 520)\n",
      "(10, 520)\n"
     ]
    }
   ],
   "source": [
    "df_all = df_all.values\n",
    "df_benign = df_benign.values\n",
    "df_mirai = df_mirai.values\n",
    "df_kenjiro = df_kenjiro.values\n",
    "df_ircbot = df_ircbot.values\n",
    "df_okiru = df_okiru.values\n",
    "df_gagfyt = df_gagfyt.values\n",
    "df_hideandseek = df_hideandseek.values\n",
    "df_hakai = df_hakai.values\n",
    "df_torii = df_torii.values\n",
    "\n",
    "print(df_all.shape)\n",
    "print(df_benign.shape)\n",
    "print(df_mirai.shape)\n",
    "print(df_kenjiro.shape)\n",
    "print(df_ircbot.shape)\n",
    "print(df_okiru.shape)\n",
    "print(df_gagfyt.shape)\n",
    "print(df_hideandseek.shape)\n",
    "print(df_hakai.shape)\n",
    "print(df_torii.shape)"
   ]
  },
  {
   "cell_type": "code",
   "execution_count": 15,
   "id": "2fb846bc",
   "metadata": {},
   "outputs": [],
   "source": [
    "scaler = MinMaxScaler()"
   ]
  },
  {
   "cell_type": "code",
   "execution_count": 16,
   "id": "2adb311d",
   "metadata": {},
   "outputs": [
    {
     "data": {
      "text/plain": [
       "MinMaxScaler()"
      ]
     },
     "execution_count": 16,
     "metadata": {},
     "output_type": "execute_result"
    }
   ],
   "source": [
    "scaler.fit(df_all)"
   ]
  },
  {
   "cell_type": "code",
   "execution_count": 17,
   "id": "48bf7d80",
   "metadata": {},
   "outputs": [],
   "source": [
    "normalized_benign = scaler.transform(df_benign)\n",
    "normalized_mirai = scaler.transform(df_mirai)\n",
    "normalized_kenjiro = scaler.transform(df_kenjiro)\n",
    "normalized_ircbot = scaler.transform(df_ircbot)\n",
    "normalized_okiru = scaler.transform(df_okiru)\n",
    "normalized_gagfyt = scaler.transform(df_gagfyt)\n",
    "normalized_hideandseek = scaler.transform(df_hideandseek)\n",
    "normalized_hakai = scaler.transform(df_hakai)\n",
    "normalized_torii = scaler.transform(df_torii)"
   ]
  },
  {
   "cell_type": "code",
   "execution_count": 18,
   "id": "898e3358",
   "metadata": {},
   "outputs": [
    {
     "data": {
      "text/plain": [
       "(192079, 520)"
      ]
     },
     "execution_count": 18,
     "metadata": {},
     "output_type": "execute_result"
    }
   ],
   "source": [
    "normalized_benign.shape"
   ]
  },
  {
   "cell_type": "code",
   "execution_count": 19,
   "id": "09ad332e",
   "metadata": {},
   "outputs": [
    {
     "name": "stdout",
     "output_type": "stream",
     "text": [
      "(192079, 20, 26)\n",
      "(391101, 20, 26)\n",
      "(197396, 20, 26)\n",
      "(196808, 20, 26)\n",
      "(99958, 20, 26)\n",
      "(99496, 20, 26)\n",
      "(55023, 20, 26)\n",
      "(8202, 20, 26)\n",
      "(10, 20, 26)\n"
     ]
    }
   ],
   "source": [
    "df_benign = normalized_benign.reshape(normalized_benign.shape[0], 20, 26)\n",
    "df_mirai = normalized_mirai.reshape(normalized_mirai.shape[0], 20, 26)\n",
    "df_kenjiro = normalized_kenjiro.reshape(normalized_kenjiro.shape[0], 20, 26)\n",
    "df_ircbot = normalized_ircbot.reshape(normalized_ircbot.shape[0], 20, 26)\n",
    "df_okiru = normalized_okiru.reshape(normalized_okiru.shape[0], 20, 26)\n",
    "df_gagfyt = normalized_gagfyt.reshape(normalized_gagfyt.shape[0], 20, 26)\n",
    "df_hideandseek = normalized_hideandseek.reshape(normalized_hideandseek.shape[0], 20, 26)\n",
    "df_hakai = normalized_hakai.reshape(normalized_hakai.shape[0], 20, 26)\n",
    "df_torii = normalized_torii.reshape(normalized_torii.shape[0], 20, 26)\n",
    "\n",
    "print(df_benign.shape)\n",
    "print(df_mirai.shape)\n",
    "print(df_kenjiro.shape)\n",
    "print(df_ircbot.shape)\n",
    "print(df_okiru.shape)\n",
    "print(df_gagfyt.shape)\n",
    "print(df_hideandseek.shape)\n",
    "print(df_hakai.shape)\n",
    "print(df_torii.shape)"
   ]
  },
  {
   "cell_type": "code",
   "execution_count": 20,
   "id": "a204b1e9",
   "metadata": {},
   "outputs": [],
   "source": [
    "df_benign = np.append(df_benign, np.zeros((len(df_benign),len(df_benign[0]),1)), axis=2)\n",
    "df_mirai = np.append(df_mirai, np.ones((len(df_mirai),len(df_mirai[0]),1)), axis=2)\n",
    "df_kenjiro = np.append(df_kenjiro, np.full((len(df_kenjiro),len(df_kenjiro[0]),1), 2), axis=2)\n",
    "df_ircbot = np.append(df_ircbot, np.full((len(df_ircbot),len(df_ircbot[0]),1), 3), axis=2)\n",
    "df_okiru = np.append(df_okiru, np.full((len(df_okiru),len(df_okiru[0]),1), 4), axis=2)\n",
    "df_gagfyt = np.append(df_gagfyt, np.full((len(df_gagfyt),len(df_gagfyt[0]),1), 5), axis=2)\n",
    "df_hideandseek = np.append(df_hideandseek, np.full((len(df_hideandseek),len(df_hideandseek[0]),1), 6), axis=2)\n",
    "df_hakai = np.append(df_hakai, np.full((len(df_hakai),len(df_hakai[0]),1), 7), axis=2)\n",
    "df_torii = np.append(df_torii, np.full((len(df_torii),len(df_torii[0]),1), 8), axis=2)"
   ]
  },
  {
   "cell_type": "code",
   "execution_count": 21,
   "id": "b24a20fe",
   "metadata": {},
   "outputs": [
    {
     "name": "stdout",
     "output_type": "stream",
     "text": [
      "(1240073, 20, 27)\n"
     ]
    }
   ],
   "source": [
    "np_dataset = np.vstack([df_benign, df_mirai, df_kenjiro, df_ircbot, df_okiru, df_gagfyt, df_hideandseek, df_hakai, df_torii])\n",
    "\n",
    "print(np_dataset.shape)"
   ]
  },
  {
   "cell_type": "code",
   "execution_count": 22,
   "id": "98937482",
   "metadata": {},
   "outputs": [
    {
     "name": "stdout",
     "output_type": "stream",
     "text": [
      "(1240073, 20, 26)\n",
      "(1240073,)\n"
     ]
    }
   ],
   "source": [
    "x_data = np_dataset[:,:,:-1]\n",
    "labels = np_dataset[:, 0, -1]\n",
    "\n",
    "print(x_data.shape)\n",
    "print(labels.shape)"
   ]
  },
  {
   "cell_type": "code",
   "execution_count": 23,
   "id": "d2e7337d",
   "metadata": {},
   "outputs": [
    {
     "data": {
      "text/plain": [
       "(1240073, 9)"
      ]
     },
     "execution_count": 23,
     "metadata": {},
     "output_type": "execute_result"
    }
   ],
   "source": [
    "from tensorflow.keras.utils import to_categorical\n",
    "\n",
    "y_data = to_categorical(labels, num_classes=9)\n",
    "y_data.shape"
   ]
  },
  {
   "cell_type": "code",
   "execution_count": 24,
   "id": "touched-tanzania",
   "metadata": {},
   "outputs": [],
   "source": [
    "from sklearn.model_selection import train_test_split\n",
    "\n",
    "X_train, X_test, Y_train, Y_test = train_test_split(x_data, y_data, random_state=10, test_size=0.2)"
   ]
  },
  {
   "cell_type": "code",
   "execution_count": 25,
   "id": "lightweight-trail",
   "metadata": {},
   "outputs": [
    {
     "name": "stdout",
     "output_type": "stream",
     "text": [
      "(992058, 20, 26) (992058, 9)\n",
      "(248015, 20, 26) (248015, 9)\n"
     ]
    }
   ],
   "source": [
    "print(X_train.shape, Y_train.shape) # 학습데이터 및 정답레이블\n",
    "print(X_test.shape, Y_test.shape) #검증데이터 및 정답레이블"
   ]
  },
  {
   "cell_type": "code",
   "execution_count": 26,
   "id": "worst-restriction",
   "metadata": {},
   "outputs": [],
   "source": [
    "model = Sequential()"
   ]
  },
  {
   "cell_type": "code",
   "execution_count": 27,
   "id": "earned-advertiser",
   "metadata": {},
   "outputs": [],
   "source": [
    "model.add(GRU(units=64, activation='relu', input_shape=X_train.shape[1:3], return_sequences=False))\n",
    "model.add(Dropout(0.2))\n",
    "model.add(Dense(32,activation='relu'))\n",
    "model.add(Dropout(0.2))\n",
    "model.add(Dense(9, activation='softmax'))\n",
    "model.compile(loss='categorical_crossentropy', optimizer='adam', metrics=['accuracy'])"
   ]
  },
  {
   "cell_type": "code",
   "execution_count": 28,
   "id": "specified-duplicate",
   "metadata": {},
   "outputs": [
    {
     "name": "stdout",
     "output_type": "stream",
     "text": [
      "Model: \"sequential\"\n",
      "_________________________________________________________________\n",
      " Layer (type)                Output Shape              Param #   \n",
      "=================================================================\n",
      " gru (GRU)                   (None, 64)                17664     \n",
      "                                                                 \n",
      " dropout (Dropout)           (None, 64)                0         \n",
      "                                                                 \n",
      " dense (Dense)               (None, 32)                2080      \n",
      "                                                                 \n",
      " dropout_1 (Dropout)         (None, 32)                0         \n",
      "                                                                 \n",
      " dense_1 (Dense)             (None, 9)                 297       \n",
      "                                                                 \n",
      "=================================================================\n",
      "Total params: 20,041\n",
      "Trainable params: 20,041\n",
      "Non-trainable params: 0\n",
      "_________________________________________________________________\n"
     ]
    }
   ],
   "source": [
    "model.summary()"
   ]
  },
  {
   "cell_type": "code",
   "execution_count": 29,
   "id": "recognized-sunset",
   "metadata": {},
   "outputs": [],
   "source": [
    "import time"
   ]
  },
  {
   "cell_type": "code",
   "execution_count": 30,
   "id": "distinct-effort",
   "metadata": {},
   "outputs": [
    {
     "name": "stdout",
     "output_type": "stream",
     "text": [
      "program start...\n",
      "\n",
      "Epoch 1/10\n",
      "969/969 [==============================] - 48s 48ms/step - loss: 0.8605 - accuracy: 0.6115 - val_loss: 0.5243 - val_accuracy: 0.7462\n",
      "Epoch 2/10\n",
      "969/969 [==============================] - 45s 47ms/step - loss: 0.5871 - accuracy: 0.7114 - val_loss: 0.4598 - val_accuracy: 0.7470\n",
      "Epoch 3/10\n",
      "969/969 [==============================] - 47s 48ms/step - loss: 0.5154 - accuracy: 0.7428 - val_loss: 0.5090 - val_accuracy: 0.7460\n",
      "Epoch 4/10\n",
      "969/969 [==============================] - 47s 48ms/step - loss: 0.4258 - accuracy: 0.7892 - val_loss: 0.3428 - val_accuracy: 0.8255\n",
      "Epoch 5/10\n",
      "969/969 [==============================] - 46s 48ms/step - loss: 0.3573 - accuracy: 0.8158 - val_loss: 0.3173 - val_accuracy: 0.8276\n",
      "Epoch 6/10\n",
      "969/969 [==============================] - 46s 48ms/step - loss: 0.3496 - accuracy: 0.8162 - val_loss: 0.3004 - val_accuracy: 0.8318\n",
      "Epoch 7/10\n",
      "969/969 [==============================] - 46s 48ms/step - loss: 0.3458 - accuracy: 0.8196 - val_loss: 0.3300 - val_accuracy: 0.8257\n",
      "Epoch 8/10\n",
      "969/969 [==============================] - 47s 48ms/step - loss: 0.3208 - accuracy: 0.8266 - val_loss: 0.2943 - val_accuracy: 0.8335\n",
      "Epoch 9/10\n",
      "969/969 [==============================] - 46s 48ms/step - loss: 0.3050 - accuracy: 0.8301 - val_loss: 0.2942 - val_accuracy: 0.8351\n",
      "Epoch 10/10\n",
      "969/969 [==============================] - 46s 48ms/step - loss: 0.3394 - accuracy: 0.8195 - val_loss: 0.2908 - val_accuracy: 0.8286\n",
      "\n",
      "program end...\n",
      "\n",
      "time cost: \n",
      "468.25259017944336 seconds\n"
     ]
    }
   ],
   "source": [
    "start = time.time()\n",
    "print('program start...')\n",
    "print()\n",
    "\n",
    "history = model.fit(\n",
    "    X_train, \n",
    "    Y_train, \n",
    "    epochs = 10, \n",
    "    batch_size=1024, \n",
    "    validation_data=(X_test,Y_test),\n",
    "    verbose=1)\n",
    "\n",
    "print()\n",
    "end = time.time()\n",
    "print('program end...')\n",
    "print()\n",
    "print('time cost: ')\n",
    "print(end - start, 'seconds')"
   ]
  },
  {
   "cell_type": "code",
   "execution_count": 31,
   "id": "proper-payroll",
   "metadata": {},
   "outputs": [
    {
     "data": {
      "image/png": "[encoded data removed]",
      "text/plain": [
       "<Figure size 1152x720 with 2 Axes>"
      ]
     },
     "metadata": {
      "needs_background": "light"
     },
     "output_type": "display_data"
    }
   ],
   "source": [
    "fig, loss_ax = plt.subplots(figsize = (16,10))\n",
    "acc_ax = loss_ax.twinx()\n",
    "\n",
    "loss_ax.plot(history.history['loss'], 'y', label='train loss')\n",
    "loss_ax.plot(history.history['val_loss'], 'r', label='val loss')\n",
    "loss_ax.set_xlabel('epoch')\n",
    "loss_ax.set_ylabel('loss')\n",
    "loss_ax.legend(loc='upper left')\n",
    "\n",
    "acc_ax.plot(history.history['accuracy'], 'b', label='train accuracy')\n",
    "acc_ax.plot(history.history['val_accuracy'], 'g', label='val accuracy')\n",
    "acc_ax.set_ylabel('accuracy')\n",
    "acc_ax.legend(loc='upper right')\n",
    "\n",
    "plt.show()"
   ]
  },
  {
   "cell_type": "code",
   "execution_count": 34,
   "id": "b8b14d93",
   "metadata": {},
   "outputs": [],
   "source": [
    "model.save('model_GRU.h5')"
   ]
  },
  {
   "cell_type": "code",
   "execution_count": 35,
   "id": "1b25888f",
   "metadata": {},
   "outputs": [],
   "source": [
    "new_model = tf.keras.models.load_model('model_GRU.h5')"
   ]
  },
  {
   "cell_type": "code",
   "execution_count": 36,
   "id": "cb7ea8ce",
   "metadata": {},
   "outputs": [
    {
     "data": {
      "text/plain": [
       "(248015, 9)"
      ]
     },
     "execution_count": 36,
     "metadata": {},
     "output_type": "execute_result"
    }
   ],
   "source": [
    "Y_test.shape"
   ]
  },
  {
   "cell_type": "code",
   "execution_count": 37,
   "id": "d12945fb",
   "metadata": {},
   "outputs": [
    {
     "data": {
      "text/plain": [
       "(248015, 20, 26)"
      ]
     },
     "execution_count": 37,
     "metadata": {},
     "output_type": "execute_result"
    }
   ],
   "source": [
    "X_test.shape"
   ]
  },
  {
   "cell_type": "code",
   "execution_count": 38,
   "id": "14a91dcb",
   "metadata": {},
   "outputs": [
    {
     "name": "stdout",
     "output_type": "stream",
     "text": [
      "7751/7751 [==============================] - 13s 2ms/step - loss: 0.2908 - accuracy: 0.8286\n"
     ]
    }
   ],
   "source": [
    "test_loss, test_acc = new_model.evaluate(X_test, Y_test, verbose=1)"
   ]
  },
  {
   "cell_type": "code",
   "execution_count": 39,
   "id": "80395b9a",
   "metadata": {},
   "outputs": [],
   "source": [
    "y_pred = new_model.predict(X_test)"
   ]
  },
  {
   "cell_type": "code",
   "execution_count": 40,
   "id": "be35b305",
   "metadata": {},
   "outputs": [
    {
     "name": "stdout",
     "output_type": "stream",
     "text": [
      "Classifiction Report :\n"
     ]
    },
    {
     "ename": "ValueError",
     "evalue": "Classification metrics can't handle a mix of multilabel-indicator and continuous-multioutput targets",
     "output_type": "error",
     "traceback": [
      "\u001b[1;31m---------------------------------------------------------------------------\u001b[0m",
      "\u001b[1;31mValueError\u001b[0m                                Traceback (most recent call last)",
      "\u001b[1;32mc:\\Users\\sang9\\deepLearning\\Anomaly-Detection-IoT23\\Models\\IoT23 - GRU_8attacks.ipynb Cell 38'\u001b[0m in \u001b[0;36m<cell line: 4>\u001b[1;34m()\u001b[0m\n\u001b[0;32m      <a href='vscode-notebook-cell:/c%3A/Users/sang9/deepLearning/Anomaly-Detection-IoT23/Models/IoT23%20-%20GRU_8attacks.ipynb#ch0000037?line=0'>1</a>\u001b[0m \u001b[39mfrom\u001b[39;00m \u001b[39msklearn\u001b[39;00m\u001b[39m.\u001b[39;00m\u001b[39mmetrics\u001b[39;00m \u001b[39mimport\u001b[39;00m classification_report, confusion_matrix\n\u001b[0;32m      <a href='vscode-notebook-cell:/c%3A/Users/sang9/deepLearning/Anomaly-Detection-IoT23/Models/IoT23%20-%20GRU_8attacks.ipynb#ch0000037?line=2'>3</a>\u001b[0m \u001b[39mprint\u001b[39m(\u001b[39m\"\u001b[39m\u001b[39mClassifiction Report :\u001b[39m\u001b[39m\"\u001b[39m)\n\u001b[1;32m----> <a href='vscode-notebook-cell:/c%3A/Users/sang9/deepLearning/Anomaly-Detection-IoT23/Models/IoT23%20-%20GRU_8attacks.ipynb#ch0000037?line=3'>4</a>\u001b[0m \u001b[39mprint\u001b[39m(classification_report(Y_test, y_pred))\n",
      "File \u001b[1;32m~\\AppData\\Local\\Programs\\Python\\Python38\\lib\\site-packages\\sklearn\\metrics\\_classification.py:2110\u001b[0m, in \u001b[0;36mclassification_report\u001b[1;34m(y_true, y_pred, labels, target_names, sample_weight, digits, output_dict, zero_division)\u001b[0m\n\u001b[0;32m   <a href='file:///c%3A/Users/sang9/AppData/Local/Programs/Python/Python38/lib/site-packages/sklearn/metrics/_classification.py?line=1997'>1998</a>\u001b[0m \u001b[39mdef\u001b[39;00m \u001b[39mclassification_report\u001b[39m(\n\u001b[0;32m   <a href='file:///c%3A/Users/sang9/AppData/Local/Programs/Python/Python38/lib/site-packages/sklearn/metrics/_classification.py?line=1998'>1999</a>\u001b[0m     y_true,\n\u001b[0;32m   <a href='file:///c%3A/Users/sang9/AppData/Local/Programs/Python/Python38/lib/site-packages/sklearn/metrics/_classification.py?line=1999'>2000</a>\u001b[0m     y_pred,\n\u001b[1;32m   (...)\u001b[0m\n\u001b[0;32m   <a href='file:///c%3A/Users/sang9/AppData/Local/Programs/Python/Python38/lib/site-packages/sklearn/metrics/_classification.py?line=2006'>2007</a>\u001b[0m     zero_division\u001b[39m=\u001b[39m\u001b[39m\"\u001b[39m\u001b[39mwarn\u001b[39m\u001b[39m\"\u001b[39m,\n\u001b[0;32m   <a href='file:///c%3A/Users/sang9/AppData/Local/Programs/Python/Python38/lib/site-packages/sklearn/metrics/_classification.py?line=2007'>2008</a>\u001b[0m ):\n\u001b[0;32m   <a href='file:///c%3A/Users/sang9/AppData/Local/Programs/Python/Python38/lib/site-packages/sklearn/metrics/_classification.py?line=2008'>2009</a>\u001b[0m     \u001b[39m\"\"\"Build a text report showing the main classification metrics.\u001b[39;00m\n\u001b[0;32m   <a href='file:///c%3A/Users/sang9/AppData/Local/Programs/Python/Python38/lib/site-packages/sklearn/metrics/_classification.py?line=2009'>2010</a>\u001b[0m \n\u001b[0;32m   <a href='file:///c%3A/Users/sang9/AppData/Local/Programs/Python/Python38/lib/site-packages/sklearn/metrics/_classification.py?line=2010'>2011</a>\u001b[0m \u001b[39m    Read more in the :ref:`User Guide <classification_report>`.\u001b[39;00m\n\u001b[1;32m   (...)\u001b[0m\n\u001b[0;32m   <a href='file:///c%3A/Users/sang9/AppData/Local/Programs/Python/Python38/lib/site-packages/sklearn/metrics/_classification.py?line=2106'>2107</a>\u001b[0m \u001b[39m    <BLANKLINE>\u001b[39;00m\n\u001b[0;32m   <a href='file:///c%3A/Users/sang9/AppData/Local/Programs/Python/Python38/lib/site-packages/sklearn/metrics/_classification.py?line=2107'>2108</a>\u001b[0m \u001b[39m    \"\"\"\u001b[39;00m\n\u001b[1;32m-> <a href='file:///c%3A/Users/sang9/AppData/Local/Programs/Python/Python38/lib/site-packages/sklearn/metrics/_classification.py?line=2109'>2110</a>\u001b[0m     y_type, y_true, y_pred \u001b[39m=\u001b[39m _check_targets(y_true, y_pred)\n\u001b[0;32m   <a href='file:///c%3A/Users/sang9/AppData/Local/Programs/Python/Python38/lib/site-packages/sklearn/metrics/_classification.py?line=2111'>2112</a>\u001b[0m     \u001b[39mif\u001b[39;00m labels \u001b[39mis\u001b[39;00m \u001b[39mNone\u001b[39;00m:\n\u001b[0;32m   <a href='file:///c%3A/Users/sang9/AppData/Local/Programs/Python/Python38/lib/site-packages/sklearn/metrics/_classification.py?line=2112'>2113</a>\u001b[0m         labels \u001b[39m=\u001b[39m unique_labels(y_true, y_pred)\n",
      "File \u001b[1;32m~\\AppData\\Local\\Programs\\Python\\Python38\\lib\\site-packages\\sklearn\\metrics\\_classification.py:93\u001b[0m, in \u001b[0;36m_check_targets\u001b[1;34m(y_true, y_pred)\u001b[0m\n\u001b[0;32m     <a href='file:///c%3A/Users/sang9/AppData/Local/Programs/Python/Python38/lib/site-packages/sklearn/metrics/_classification.py?line=89'>90</a>\u001b[0m     y_type \u001b[39m=\u001b[39m {\u001b[39m\"\u001b[39m\u001b[39mmulticlass\u001b[39m\u001b[39m\"\u001b[39m}\n\u001b[0;32m     <a href='file:///c%3A/Users/sang9/AppData/Local/Programs/Python/Python38/lib/site-packages/sklearn/metrics/_classification.py?line=91'>92</a>\u001b[0m \u001b[39mif\u001b[39;00m \u001b[39mlen\u001b[39m(y_type) \u001b[39m>\u001b[39m \u001b[39m1\u001b[39m:\n\u001b[1;32m---> <a href='file:///c%3A/Users/sang9/AppData/Local/Programs/Python/Python38/lib/site-packages/sklearn/metrics/_classification.py?line=92'>93</a>\u001b[0m     \u001b[39mraise\u001b[39;00m \u001b[39mValueError\u001b[39;00m(\n\u001b[0;32m     <a href='file:///c%3A/Users/sang9/AppData/Local/Programs/Python/Python38/lib/site-packages/sklearn/metrics/_classification.py?line=93'>94</a>\u001b[0m         \u001b[39m\"\u001b[39m\u001b[39mClassification metrics can\u001b[39m\u001b[39m'\u001b[39m\u001b[39mt handle a mix of \u001b[39m\u001b[39m{0}\u001b[39;00m\u001b[39m and \u001b[39m\u001b[39m{1}\u001b[39;00m\u001b[39m targets\u001b[39m\u001b[39m\"\u001b[39m\u001b[39m.\u001b[39mformat(\n\u001b[0;32m     <a href='file:///c%3A/Users/sang9/AppData/Local/Programs/Python/Python38/lib/site-packages/sklearn/metrics/_classification.py?line=94'>95</a>\u001b[0m             type_true, type_pred\n\u001b[0;32m     <a href='file:///c%3A/Users/sang9/AppData/Local/Programs/Python/Python38/lib/site-packages/sklearn/metrics/_classification.py?line=95'>96</a>\u001b[0m         )\n\u001b[0;32m     <a href='file:///c%3A/Users/sang9/AppData/Local/Programs/Python/Python38/lib/site-packages/sklearn/metrics/_classification.py?line=96'>97</a>\u001b[0m     )\n\u001b[0;32m     <a href='file:///c%3A/Users/sang9/AppData/Local/Programs/Python/Python38/lib/site-packages/sklearn/metrics/_classification.py?line=98'>99</a>\u001b[0m \u001b[39m# We can't have more than one value on y_type => The set is no more needed\u001b[39;00m\n\u001b[0;32m    <a href='file:///c%3A/Users/sang9/AppData/Local/Programs/Python/Python38/lib/site-packages/sklearn/metrics/_classification.py?line=99'>100</a>\u001b[0m y_type \u001b[39m=\u001b[39m y_type\u001b[39m.\u001b[39mpop()\n",
      "\u001b[1;31mValueError\u001b[0m: Classification metrics can't handle a mix of multilabel-indicator and continuous-multioutput targets"
     ]
    }
   ],
   "source": [
    "from sklearn.metrics import classification_report, confusion_matrix\n",
    "\n",
    "print(\"Classifiction Report :\")\n",
    "print(classification_report(Y_test, y_pred))"
   ]
  },
  {
   "cell_type": "code",
   "execution_count": null,
   "id": "b470b7eb",
   "metadata": {},
   "outputs": [],
   "source": []
  }
 ],
 "metadata": {
  "kernelspec": {
   "display_name": "Python 3",
   "language": "python",
   "name": "python3"
  },
  "language_info": {
   "codemirror_mode": {
    "name": "ipython",
    "version": 3
   },
   "file_extension": ".py",
   "mimetype": "text/x-python",
   "name": "python",
   "nbconvert_exporter": "python",
   "pygments_lexer": "ipython3",
   "version": "3.8.10"
  }
 },
 "nbformat": 4,
 "nbformat_minor": 5
}
