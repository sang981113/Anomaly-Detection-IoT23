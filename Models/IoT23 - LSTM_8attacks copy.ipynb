{
 "cells": [
  {
   "cell_type": "code",
   "execution_count": 1,
   "id": "floating-offense",
   "metadata": {},
   "outputs": [],
   "source": [
    "import numpy as np\n",
    "import pandas as pd\n",
    "import tensorflow as tf\n",
    "import matplotlib.pyplot as plt\n",
    "from tensorflow.keras import Model\n",
    "from tensorflow.keras import Sequential\n",
    "from tensorflow.keras.models import Sequential, Model\n",
    "from tensorflow.keras.layers import Conv2D, Input, Dropout, Activation, Dense, MaxPooling2D, Flatten, GlobalAveragePooling2D\n",
    "from tensorflow.keras.optimizers import Adadelta\n",
    "from tensorflow.keras.callbacks import ModelCheckpoint\n",
    "from tensorflow.keras.layers import Dense\n",
    "from tensorflow.keras.layers import LSTM\n",
    "import sklearn\n",
    "from sklearn.preprocessing import MinMaxScaler"
   ]
  },
  {
   "cell_type": "code",
   "execution_count": 2,
   "id": "1a47b15b",
   "metadata": {},
   "outputs": [],
   "source": [
    "import os\n",
    "\n",
    "os.environ['CUDA_VISIBLE_DEVICES'] = '1'\n",
    "os.environ['TF_FORCE_GPU_ALLOW_GROWTH'] = 'true'"
   ]
  },
  {
   "cell_type": "code",
   "execution_count": 3,
   "id": "f881923c",
   "metadata": {},
   "outputs": [],
   "source": [
    "filepath = \"iot23_sequential_benign&malicious.csv\"\n",
    "df_all = pd.read_csv(filepath)"
   ]
  },
  {
   "cell_type": "code",
   "execution_count": 4,
   "id": "c371f307",
   "metadata": {},
   "outputs": [],
   "source": [
    "filepath = \"iot23_sequential_benign.csv\"\n",
    "df_benign = pd.read_csv(filepath)"
   ]
  },
  {
   "cell_type": "code",
   "execution_count": 5,
   "id": "9340e7d6",
   "metadata": {},
   "outputs": [],
   "source": [
    "# filepath = \"iot23_sequential_mirai.csv\"\n",
    "# df_mirai = pd.read_csv(filepath)"
   ]
  },
  {
   "cell_type": "code",
   "execution_count": 6,
   "id": "d77ce5fa",
   "metadata": {},
   "outputs": [],
   "source": [
    "filepath = \"iot23_sequential_kenjiro.csv\"\n",
    "df_kenjiro = pd.read_csv(filepath)"
   ]
  },
  {
   "cell_type": "code",
   "execution_count": 7,
   "id": "77cacb40",
   "metadata": {},
   "outputs": [],
   "source": [
    "# filepath = \"iot23_sequential_ircbot.csv\"\n",
    "# df_ircbot = pd.read_csv(filepath)"
   ]
  },
  {
   "cell_type": "code",
   "execution_count": 8,
   "id": "e1a3dfe8",
   "metadata": {},
   "outputs": [],
   "source": [
    "# filepath = \"iot23_sequential_okiru.csv\"\n",
    "# df_okiru = pd.read_csv(filepath)"
   ]
  },
  {
   "cell_type": "code",
   "execution_count": 9,
   "id": "044d11e1",
   "metadata": {},
   "outputs": [],
   "source": [
    "# filepath = \"iot23_sequential_gagfyt.csv\"\n",
    "# df_gagfyt = pd.read_csv(filepath)"
   ]
  },
  {
   "cell_type": "code",
   "execution_count": 10,
   "id": "70cf5b7e",
   "metadata": {},
   "outputs": [],
   "source": [
    "# filepath = \"iot23_sequential_hideandseek.csv\"\n",
    "# df_hideandseek = pd.read_csv(filepath)"
   ]
  },
  {
   "cell_type": "code",
   "execution_count": 11,
   "id": "51edce70",
   "metadata": {},
   "outputs": [],
   "source": [
    "# filepath = \"iot23_sequential_hakai.csv\"\n",
    "# df_hakai = pd.read_csv(filepath)"
   ]
  },
  {
   "cell_type": "code",
   "execution_count": 12,
   "id": "e52f23e4",
   "metadata": {},
   "outputs": [],
   "source": [
    "# filepath = \"iot23_sequential_torii.csv\"\n",
    "# df_torii = pd.read_csv(filepath)"
   ]
  },
  {
   "cell_type": "code",
   "execution_count": 13,
   "id": "paperback-heritage",
   "metadata": {},
   "outputs": [],
   "source": [
    "del df_all['Unnamed: 0']\n",
    "del df_benign['Unnamed: 0']\n",
    "# del df_mirai['Unnamed: 0']\n",
    "del df_kenjiro['Unnamed: 0']\n",
    "# del df_ircbot['Unnamed: 0']\n",
    "# del df_okiru['Unnamed: 0']\n",
    "# del df_gagfyt['Unnamed: 0']\n",
    "# del df_hideandseek['Unnamed: 0']\n",
    "# del df_hakai['Unnamed: 0']\n",
    "# del df_torii['Unnamed: 0']"
   ]
  },
  {
   "cell_type": "code",
   "execution_count": 14,
   "id": "bb8832a1",
   "metadata": {},
   "outputs": [
    {
     "name": "stdout",
     "output_type": "stream",
     "text": [
      "(1444654, 520)\n",
      "(192079, 520)\n",
      "(197396, 520)\n"
     ]
    }
   ],
   "source": [
    "df_all = df_all.values\n",
    "df_benign = df_benign.values\n",
    "# df_mirai = df_mirai.values\n",
    "df_kenjiro = df_kenjiro.values\n",
    "# df_ircbot = df_ircbot.values\n",
    "# df_okiru = df_okiru.values\n",
    "# df_gagfyt = df_gagfyt.values\n",
    "# df_hideandseek = df_hideandseek.values\n",
    "# df_hakai = df_hakai.values\n",
    "# df_torii = df_torii.values\n",
    "\n",
    "print(df_all.shape)\n",
    "print(df_benign.shape)\n",
    "# print(df_mirai.shape)\n",
    "print(df_kenjiro.shape)\n",
    "# print(df_ircbot.shape)\n",
    "# print(df_okiru.shape)\n",
    "# print(df_gagfyt.shape)\n",
    "# print(df_hideandseek.shape)\n",
    "# print(df_hakai.shape)\n",
    "# print(df_torii.shape)"
   ]
  },
  {
   "cell_type": "code",
   "execution_count": 15,
   "id": "2fb846bc",
   "metadata": {},
   "outputs": [],
   "source": [
    "scaler = MinMaxScaler()"
   ]
  },
  {
   "cell_type": "code",
   "execution_count": 16,
   "id": "2adb311d",
   "metadata": {},
   "outputs": [
    {
     "data": {
      "text/plain": [
       "MinMaxScaler()"
      ]
     },
     "execution_count": 16,
     "metadata": {},
     "output_type": "execute_result"
    }
   ],
   "source": [
    "scaler.fit(df_all)"
   ]
  },
  {
   "cell_type": "code",
   "execution_count": 17,
   "id": "48bf7d80",
   "metadata": {},
   "outputs": [],
   "source": [
    "normalized_benign = scaler.transform(df_benign)\n",
    "# normalized_mirai = scaler.transform(df_mirai)\n",
    "normalized_kenjiro = scaler.transform(df_kenjiro)\n",
    "# normalized_ircbot = scaler.transform(df_ircbot)\n",
    "# normalized_okiru = scaler.transform(df_okiru)\n",
    "# normalized_gagfyt = scaler.transform(df_gagfyt)\n",
    "# normalized_hideandseek = scaler.transform(df_hideandseek)\n",
    "# normalized_hakai = scaler.transform(df_hakai)\n",
    "# normalized_torii = scaler.transform(df_torii)"
   ]
  },
  {
   "cell_type": "code",
   "execution_count": 18,
   "id": "898e3358",
   "metadata": {},
   "outputs": [
    {
     "data": {
      "text/plain": [
       "(192079, 520)"
      ]
     },
     "execution_count": 18,
     "metadata": {},
     "output_type": "execute_result"
    }
   ],
   "source": [
    "normalized_benign.shape"
   ]
  },
  {
   "cell_type": "code",
   "execution_count": 19,
   "id": "09ad332e",
   "metadata": {},
   "outputs": [
    {
     "name": "stdout",
     "output_type": "stream",
     "text": [
      "(192079, 20, 26)\n",
      "(197396, 20, 26)\n"
     ]
    }
   ],
   "source": [
    "df_benign = normalized_benign.reshape(normalized_benign.shape[0], 20, 26)\n",
    "# df_mirai = normalized_mirai.reshape(normalized_mirai.shape[0], 20, 26)\n",
    "df_kenjiro = normalized_kenjiro.reshape(normalized_kenjiro.shape[0], 20, 26)\n",
    "# df_ircbot = normalized_ircbot.reshape(normalized_ircbot.shape[0], 20, 26)\n",
    "# df_okiru = normalized_okiru.reshape(normalized_okiru.shape[0], 20, 26)\n",
    "# df_gagfyt = normalized_gagfyt.reshape(normalized_gagfyt.shape[0], 20, 26)\n",
    "# df_hideandseek = normalized_hideandseek.reshape(normalized_hideandseek.shape[0], 20, 26)\n",
    "# df_hakai = normalized_hakai.reshape(normalized_hakai.shape[0], 20, 26)\n",
    "# df_torii = normalized_torii.reshape(normalized_torii.shape[0], 20, 26)\n",
    "\n",
    "print(df_benign.shape)\n",
    "# print(df_mirai.shape)\n",
    "print(df_kenjiro.shape)\n",
    "# print(df_ircbot.shape)\n",
    "# print(df_okiru.shape)\n",
    "# print(df_gagfyt.shape)\n",
    "# print(df_hideandseek.shape)\n",
    "# print(df_hakai.shape)\n",
    "# print(df_torii.shape)"
   ]
  },
  {
   "cell_type": "code",
   "execution_count": 20,
   "id": "a204b1e9",
   "metadata": {},
   "outputs": [],
   "source": [
    "df_benign = np.append(df_benign, np.zeros((len(df_benign),len(df_benign[0]),1)), axis=2)\n",
    "# df_mirai = np.append(df_mirai, np.ones((len(df_mirai),len(df_mirai[0]),1)), axis=2)\n",
    "# df_kenjiro = np.append(df_kenjiro, np.full((len(df_kenjiro),len(df_kenjiro[0]),1), 2), axis=2)\n",
    "# df_ircbot = np.append(df_ircbot, np.full((len(df_ircbot),len(df_ircbot[0]),1), 3), axis=2)\n",
    "# df_okiru = np.append(df_okiru, np.full((len(df_okiru),len(df_okiru[0]),1), 4), axis=2)\n",
    "# df_gagfyt = np.append(df_gagfyt, np.full((len(df_gagfyt),len(df_gagfyt[0]),1), 5), axis=2)\n",
    "# df_hideandseek = np.append(df_hideandseek, np.full((len(df_hideandseek),len(df_hideandseek[0]),1), 6), axis=2)\n",
    "# df_hakai = np.append(df_hakai, np.full((len(df_hakai),len(df_hakai[0]),1), 7), axis=2)\n",
    "# df_torii = np.append(df_torii, np.full((len(df_torii),len(df_torii[0]),1), 8), axis=2)\n",
    "df_kenjiro = np.append(df_kenjiro, np.ones((len(df_kenjiro),len(df_kenjiro[0]),1)), axis=2)"
   ]
  },
  {
   "cell_type": "code",
   "execution_count": 31,
   "id": "b24a20fe",
   "metadata": {},
   "outputs": [
    {
     "name": "stdout",
     "output_type": "stream",
     "text": [
      "(389475, 20, 27)\n"
     ]
    }
   ],
   "source": [
    "# np_dataset = np.vstack([df_benign, df_mirai, df_kenjiro, df_ircbot, df_okiru, df_gagfyt, df_hideandseek, df_hakai, df_torii])\n",
    "np_dataset = np.vstack([df_benign, df_kenjiro])\n",
    "\n",
    "print(np_dataset.shape)"
   ]
  },
  {
   "cell_type": "code",
   "execution_count": 32,
   "id": "98937482",
   "metadata": {},
   "outputs": [
    {
     "name": "stdout",
     "output_type": "stream",
     "text": [
      "(389475, 20, 26)\n",
      "(389475,)\n"
     ]
    }
   ],
   "source": [
    "x_data = np_dataset[:,:,:-1]\n",
    "labels = np_dataset[:, 0, -1]\n",
    "\n",
    "print(x_data.shape)\n",
    "print(labels.shape)"
   ]
  },
  {
   "cell_type": "code",
   "execution_count": 33,
   "id": "d5603fe6",
   "metadata": {},
   "outputs": [
    {
     "data": {
      "text/plain": [
       "array([0., 0., 0., ..., 2., 2., 2.])"
      ]
     },
     "execution_count": 33,
     "metadata": {},
     "output_type": "execute_result"
    }
   ],
   "source": [
    "labels"
   ]
  },
  {
   "cell_type": "code",
   "execution_count": 23,
   "id": "d2e7337d",
   "metadata": {},
   "outputs": [
    {
     "ename": "IndexError",
     "evalue": "index 2 is out of bounds for axis 1 with size 2",
     "output_type": "error",
     "traceback": [
      "\u001b[1;31m---------------------------------------------------------------------------\u001b[0m",
      "\u001b[1;31mIndexError\u001b[0m                                Traceback (most recent call last)",
      "\u001b[1;32mc:\\Users\\sang9\\deepLearning\\Anomaly-Detection-IoT23\\Models\\IoT23 - LSTM_8attacks copy.ipynb Cell 23'\u001b[0m in \u001b[0;36m<cell line: 3>\u001b[1;34m()\u001b[0m\n\u001b[0;32m      <a href='vscode-notebook-cell:/c%3A/Users/sang9/deepLearning/Anomaly-Detection-IoT23/Models/IoT23%20-%20LSTM_8attacks%20copy.ipynb#ch0000022?line=0'>1</a>\u001b[0m \u001b[39mfrom\u001b[39;00m \u001b[39mtensorflow\u001b[39;00m\u001b[39m.\u001b[39;00m\u001b[39mkeras\u001b[39;00m\u001b[39m.\u001b[39;00m\u001b[39mutils\u001b[39;00m \u001b[39mimport\u001b[39;00m to_categorical\n\u001b[1;32m----> <a href='vscode-notebook-cell:/c%3A/Users/sang9/deepLearning/Anomaly-Detection-IoT23/Models/IoT23%20-%20LSTM_8attacks%20copy.ipynb#ch0000022?line=2'>3</a>\u001b[0m y_data \u001b[39m=\u001b[39m to_categorical(labels, num_classes\u001b[39m=\u001b[39;49m\u001b[39m2\u001b[39;49m)\n\u001b[0;32m      <a href='vscode-notebook-cell:/c%3A/Users/sang9/deepLearning/Anomaly-Detection-IoT23/Models/IoT23%20-%20LSTM_8attacks%20copy.ipynb#ch0000022?line=3'>4</a>\u001b[0m y_data\u001b[39m.\u001b[39mshape\n",
      "File \u001b[1;32mc:\\Users\\sang9\\AppData\\Local\\Programs\\Python\\Python38\\lib\\site-packages\\keras\\utils\\np_utils.py:71\u001b[0m, in \u001b[0;36mto_categorical\u001b[1;34m(y, num_classes, dtype)\u001b[0m\n\u001b[0;32m     <a href='file:///c%3A/Users/sang9/AppData/Local/Programs/Python/Python38/lib/site-packages/keras/utils/np_utils.py?line=68'>69</a>\u001b[0m n \u001b[39m=\u001b[39m y\u001b[39m.\u001b[39mshape[\u001b[39m0\u001b[39m]\n\u001b[0;32m     <a href='file:///c%3A/Users/sang9/AppData/Local/Programs/Python/Python38/lib/site-packages/keras/utils/np_utils.py?line=69'>70</a>\u001b[0m categorical \u001b[39m=\u001b[39m np\u001b[39m.\u001b[39mzeros((n, num_classes), dtype\u001b[39m=\u001b[39mdtype)\n\u001b[1;32m---> <a href='file:///c%3A/Users/sang9/AppData/Local/Programs/Python/Python38/lib/site-packages/keras/utils/np_utils.py?line=70'>71</a>\u001b[0m categorical[np\u001b[39m.\u001b[39marange(n), y] \u001b[39m=\u001b[39m \u001b[39m1\u001b[39m\n\u001b[0;32m     <a href='file:///c%3A/Users/sang9/AppData/Local/Programs/Python/Python38/lib/site-packages/keras/utils/np_utils.py?line=71'>72</a>\u001b[0m output_shape \u001b[39m=\u001b[39m input_shape \u001b[39m+\u001b[39m (num_classes,)\n\u001b[0;32m     <a href='file:///c%3A/Users/sang9/AppData/Local/Programs/Python/Python38/lib/site-packages/keras/utils/np_utils.py?line=72'>73</a>\u001b[0m categorical \u001b[39m=\u001b[39m np\u001b[39m.\u001b[39mreshape(categorical, output_shape)\n",
      "\u001b[1;31mIndexError\u001b[0m: index 2 is out of bounds for axis 1 with size 2"
     ]
    }
   ],
   "source": [
    "from tensorflow.keras.utils import to_categorical\n",
    "\n",
    "y_data = to_categorical(labels, num_classes=2)\n",
    "y_data.shape"
   ]
  },
  {
   "cell_type": "code",
   "execution_count": null,
   "id": "touched-tanzania",
   "metadata": {},
   "outputs": [],
   "source": [
    "from sklearn.model_selection import train_test_split\n",
    "\n",
    "X_train, X_test, Y_train, Y_test = train_test_split(x_data, y_data, random_state=10, test_size=0.2)"
   ]
  },
  {
   "cell_type": "code",
   "execution_count": null,
   "id": "lightweight-trail",
   "metadata": {},
   "outputs": [
    {
     "name": "stdout",
     "output_type": "stream",
     "text": [
      "(466544, 20, 26) (466544, 2)\n",
      "(116636, 20, 26) (116636, 2)\n"
     ]
    }
   ],
   "source": [
    "print(X_train.shape, Y_train.shape) # 학습데이터 및 정답레이블\n",
    "print(X_test.shape, Y_test.shape) #검증데이터 및 정답레이블"
   ]
  },
  {
   "cell_type": "code",
   "execution_count": null,
   "id": "worst-restriction",
   "metadata": {},
   "outputs": [],
   "source": [
    "model = Sequential()"
   ]
  },
  {
   "cell_type": "code",
   "execution_count": null,
   "id": "earned-advertiser",
   "metadata": {},
   "outputs": [],
   "source": [
    "model.add(LSTM(units=64, activation='relu', input_shape=X_train.shape[1:3], return_sequences=False))\n",
    "model.add(Dropout(0.2))\n",
    "model.add(Dense(32,activation='relu'))\n",
    "model.add(Dropout(0.2))\n",
    "model.add(Dense(2, activation='softmax'))\n",
    "model.compile(loss='categorical_crossentropy', optimizer='adam', metrics=['accuracy'])"
   ]
  },
  {
   "cell_type": "code",
   "execution_count": null,
   "id": "specified-duplicate",
   "metadata": {},
   "outputs": [
    {
     "name": "stdout",
     "output_type": "stream",
     "text": [
      "Model: \"sequential\"\n",
      "_________________________________________________________________\n",
      " Layer (type)                Output Shape              Param #   \n",
      "=================================================================\n",
      " lstm (LSTM)                 (None, 64)                23296     \n",
      "                                                                 \n",
      " dropout (Dropout)           (None, 64)                0         \n",
      "                                                                 \n",
      " dense (Dense)               (None, 32)                2080      \n",
      "                                                                 \n",
      " dropout_1 (Dropout)         (None, 32)                0         \n",
      "                                                                 \n",
      " dense_1 (Dense)             (None, 2)                 66        \n",
      "                                                                 \n",
      "=================================================================\n",
      "Total params: 25,442\n",
      "Trainable params: 25,442\n",
      "Non-trainable params: 0\n",
      "_________________________________________________________________\n"
     ]
    }
   ],
   "source": [
    "model.summary()"
   ]
  },
  {
   "cell_type": "code",
   "execution_count": null,
   "id": "recognized-sunset",
   "metadata": {},
   "outputs": [],
   "source": [
    "import time"
   ]
  },
  {
   "cell_type": "code",
   "execution_count": null,
   "id": "distinct-effort",
   "metadata": {},
   "outputs": [
    {
     "name": "stdout",
     "output_type": "stream",
     "text": [
      "program start...\n",
      "\n",
      "Epoch 1/10\n",
      "456/456 [==============================] - 27s 57ms/step - loss: 0.2955 - accuracy: 0.8095 - val_loss: 0.2467 - val_accuracy: 0.8266\n",
      "Epoch 2/10\n",
      "456/456 [==============================] - 26s 56ms/step - loss: 0.2886 - accuracy: 0.8181 - val_loss: 0.2472 - val_accuracy: 0.8257\n",
      "Epoch 3/10\n",
      "456/456 [==============================] - 26s 56ms/step - loss: 0.2552 - accuracy: 0.8214 - val_loss: 0.2471 - val_accuracy: 0.8202\n",
      "Epoch 4/10\n",
      "456/456 [==============================] - 26s 58ms/step - loss: 0.2464 - accuracy: 0.8237 - val_loss: 0.2445 - val_accuracy: 0.8292\n",
      "Epoch 5/10\n",
      "456/456 [==============================] - 26s 57ms/step - loss: 0.2414 - accuracy: 0.8302 - val_loss: 0.2383 - val_accuracy: 0.8319\n",
      "Epoch 6/10\n",
      "456/456 [==============================] - 26s 57ms/step - loss: 0.2390 - accuracy: 0.8318 - val_loss: 0.2374 - val_accuracy: 0.8321\n",
      "Epoch 7/10\n",
      "456/456 [==============================] - 26s 57ms/step - loss: 0.2385 - accuracy: 0.8322 - val_loss: 0.2364 - val_accuracy: 0.8326\n",
      "Epoch 8/10\n",
      "456/456 [==============================] - 26s 57ms/step - loss: 0.2369 - accuracy: 0.8333 - val_loss: 0.2361 - val_accuracy: 0.8323\n",
      "Epoch 9/10\n",
      "456/456 [==============================] - 26s 57ms/step - loss: 0.2373 - accuracy: 0.8329 - val_loss: 0.2358 - val_accuracy: 0.8332\n",
      "Epoch 10/10\n",
      "456/456 [==============================] - 26s 57ms/step - loss: 0.2357 - accuracy: 0.8335 - val_loss: 0.2380 - val_accuracy: 0.8331\n",
      "\n",
      "program end...\n",
      "\n",
      "time cost: \n",
      "260.1091978549957 seconds\n"
     ]
    }
   ],
   "source": [
    "start = time.time()\n",
    "print('program start...')\n",
    "print()\n",
    "\n",
    "history = model.fit(\n",
    "    X_train, \n",
    "    Y_train, \n",
    "    epochs = 10, \n",
    "    batch_size=1024, \n",
    "    validation_data=(X_test,Y_test),\n",
    "    verbose=1)\n",
    "\n",
    "print()\n",
    "end = time.time()\n",
    "print('program end...')\n",
    "print()\n",
    "print('time cost: ')\n",
    "print(end - start, 'seconds')"
   ]
  },
  {
   "cell_type": "code",
   "execution_count": null,
   "id": "proper-payroll",
   "metadata": {},
   "outputs": [
    {
     "data": {
      "image/png": "[encoded data removed]",
      "text/plain": [
       "<Figure size 1152x720 with 2 Axes>"
      ]
     },
     "metadata": {
      "needs_background": "light"
     },
     "output_type": "display_data"
    }
   ],
   "source": [
    "fig, loss_ax = plt.subplots(figsize = (16,10))\n",
    "acc_ax = loss_ax.twinx()\n",
    "\n",
    "loss_ax.plot(history.history['loss'], 'y', label='train loss')\n",
    "loss_ax.plot(history.history['val_loss'], 'r', label='val loss')\n",
    "loss_ax.set_xlabel('epoch')\n",
    "loss_ax.set_ylabel('loss')\n",
    "loss_ax.legend(loc='upper left')\n",
    "\n",
    "acc_ax.plot(history.history['accuracy'], 'b', label='train accuracy')\n",
    "acc_ax.plot(history.history['val_accuracy'], 'g', label='val accuracy')\n",
    "acc_ax.set_ylabel('accuracy')\n",
    "acc_ax.legend(loc='upper right')\n",
    "\n",
    "plt.show()"
   ]
  },
  {
   "cell_type": "code",
   "execution_count": null,
   "id": "b8b14d93",
   "metadata": {},
   "outputs": [],
   "source": [
    "model.save('model_LSTM.h5')"
   ]
  },
  {
   "cell_type": "code",
   "execution_count": null,
   "id": "1b25888f",
   "metadata": {},
   "outputs": [],
   "source": [
    "new_model = tf.keras.models.load_model('model_LSTM.h5')"
   ]
  },
  {
   "cell_type": "code",
   "execution_count": null,
   "id": "cb7ea8ce",
   "metadata": {},
   "outputs": [
    {
     "data": {
      "text/plain": [
       "(116636, 2)"
      ]
     },
     "execution_count": 34,
     "metadata": {},
     "output_type": "execute_result"
    }
   ],
   "source": [
    "Y_test.shape"
   ]
  },
  {
   "cell_type": "code",
   "execution_count": null,
   "id": "d12945fb",
   "metadata": {},
   "outputs": [
    {
     "data": {
      "text/plain": [
       "(116636, 20, 26)"
      ]
     },
     "execution_count": 35,
     "metadata": {},
     "output_type": "execute_result"
    }
   ],
   "source": [
    "X_test.shape"
   ]
  },
  {
   "cell_type": "code",
   "execution_count": null,
   "id": "14a91dcb",
   "metadata": {},
   "outputs": [
    {
     "name": "stdout",
     "output_type": "stream",
     "text": [
      "3645/3645 [==============================] - 7s 2ms/step - loss: 0.2380 - accuracy: 0.8331\n"
     ]
    }
   ],
   "source": [
    "test_loss, test_acc = new_model.evaluate(X_test, Y_test, verbose=1)"
   ]
  }
 ],
 "metadata": {
  "interpreter": {
   "hash": "de22a0a9302f8c1a52d15189289baa3723d5196742bc01e5424548ff54995f8f"
  },
  "kernelspec": {
   "display_name": "Python 3.8.10 64-bit",
   "language": "python",
   "name": "python3"
  },
  "language_info": {
   "codemirror_mode": {
    "name": "ipython",
    "version": 3
   },
   "file_extension": ".py",
   "mimetype": "text/x-python",
   "name": "python",
   "nbconvert_exporter": "python",
   "pygments_lexer": "ipython3",
   "version": "3.8.10"
  }
 },
 "nbformat": 4,
 "nbformat_minor": 5
}
