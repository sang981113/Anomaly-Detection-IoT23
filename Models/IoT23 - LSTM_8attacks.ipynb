{
 "cells": [
  {
   "cell_type": "code",
   "execution_count": 1,
   "id": "floating-offense",
   "metadata": {},
   "outputs": [],
   "source": [
    "import numpy as np\n",
    "import pandas as pd\n",
    "import tensorflow as tf\n",
    "import matplotlib.pyplot as plt\n",
    "from tensorflow.keras import Model\n",
    "from tensorflow.keras import Sequential\n",
    "from tensorflow.keras.models import Sequential, Model\n",
    "from tensorflow.keras.layers import Conv2D, Input, Dropout, Activation, Dense, MaxPooling2D, Flatten, GlobalAveragePooling2D\n",
    "from tensorflow.keras.optimizers import Adadelta\n",
    "from tensorflow.keras.callbacks import ModelCheckpoint\n",
    "from tensorflow.keras.layers import Dense\n",
    "from tensorflow.keras.layers import LSTM\n",
    "import sklearn\n",
    "from sklearn.preprocessing import MinMaxScaler"
   ]
  },
  {
   "cell_type": "code",
   "execution_count": 2,
   "id": "1a47b15b",
   "metadata": {},
   "outputs": [],
   "source": [
    "import os\n",
    "\n",
    "os.environ['CUDA_VISIBLE_DEVICES'] = '1'\n",
    "os.environ['TF_FORCE_GPU_ALLOW_GROWTH'] = 'true'"
   ]
  },
  {
   "cell_type": "code",
   "execution_count": 3,
   "id": "f881923c",
   "metadata": {},
   "outputs": [],
   "source": [
    "filepath = \"iot23_sequential_benign&malicious.csv\"\n",
    "df_all = pd.read_csv(filepath)"
   ]
  },
  {
   "cell_type": "code",
   "execution_count": 4,
   "id": "c371f307",
   "metadata": {},
   "outputs": [],
   "source": [
    "filepath = \"iot23_sequential_benign.csv\"\n",
    "df_benign = pd.read_csv(filepath)"
   ]
  },
  {
   "cell_type": "code",
   "execution_count": 5,
   "id": "9340e7d6",
   "metadata": {},
   "outputs": [],
   "source": [
    "filepath = \"iot23_sequential_mirai.csv\"\n",
    "df_mirai = pd.read_csv(filepath)"
   ]
  },
  {
   "cell_type": "code",
   "execution_count": 6,
   "id": "d77ce5fa",
   "metadata": {},
   "outputs": [],
   "source": [
    "filepath = \"iot23_sequential_kenjiro.csv\"\n",
    "df_kenjiro = pd.read_csv(filepath)"
   ]
  },
  {
   "cell_type": "code",
   "execution_count": 7,
   "id": "77cacb40",
   "metadata": {},
   "outputs": [],
   "source": [
    "filepath = \"iot23_sequential_ircbot.csv\"\n",
    "df_ircbot = pd.read_csv(filepath)"
   ]
  },
  {
   "cell_type": "code",
   "execution_count": 8,
   "id": "e1a3dfe8",
   "metadata": {},
   "outputs": [],
   "source": [
    "filepath = \"iot23_sequential_okiru.csv\"\n",
    "df_okiru = pd.read_csv(filepath)"
   ]
  },
  {
   "cell_type": "code",
   "execution_count": 9,
   "id": "044d11e1",
   "metadata": {},
   "outputs": [],
   "source": [
    "filepath = \"iot23_sequential_gagfyt.csv\"\n",
    "df_gagfyt = pd.read_csv(filepath)"
   ]
  },
  {
   "cell_type": "code",
   "execution_count": 10,
   "id": "70cf5b7e",
   "metadata": {},
   "outputs": [],
   "source": [
    "filepath = \"iot23_sequential_hideandseek.csv\"\n",
    "df_hideandseek = pd.read_csv(filepath)"
   ]
  },
  {
   "cell_type": "code",
   "execution_count": 11,
   "id": "51edce70",
   "metadata": {},
   "outputs": [],
   "source": [
    "filepath = \"iot23_sequential_hakai.csv\"\n",
    "df_hakai = pd.read_csv(filepath)"
   ]
  },
  {
   "cell_type": "code",
   "execution_count": 12,
   "id": "e52f23e4",
   "metadata": {},
   "outputs": [],
   "source": [
    "filepath = \"iot23_sequential_torii.csv\"\n",
    "df_torii = pd.read_csv(filepath)"
   ]
  },
  {
   "cell_type": "code",
   "execution_count": 13,
   "id": "paperback-heritage",
   "metadata": {},
   "outputs": [],
   "source": [
    "del df_all['Unnamed: 0']\n",
    "del df_benign['Unnamed: 0']\n",
    "del df_mirai['Unnamed: 0']\n",
    "del df_kenjiro['Unnamed: 0']\n",
    "del df_ircbot['Unnamed: 0']\n",
    "del df_okiru['Unnamed: 0']\n",
    "del df_gagfyt['Unnamed: 0']\n",
    "del df_hideandseek['Unnamed: 0']\n",
    "del df_hakai['Unnamed: 0']\n",
    "del df_torii['Unnamed: 0']"
   ]
  },
  {
   "cell_type": "code",
   "execution_count": 14,
   "id": "bb8832a1",
   "metadata": {},
   "outputs": [
    {
     "name": "stdout",
     "output_type": "stream",
     "text": [
      "(1444654, 520)\n",
      "(192079, 520)\n",
      "(391101, 520)\n",
      "(197396, 520)\n",
      "(196808, 520)\n",
      "(99958, 520)\n",
      "(99496, 520)\n",
      "(55023, 520)\n",
      "(8202, 520)\n",
      "(10, 520)\n"
     ]
    }
   ],
   "source": [
    "df_all = df_all.values\n",
    "df_benign = df_benign.values\n",
    "df_mirai = df_mirai.values\n",
    "df_kenjiro = df_kenjiro.values\n",
    "df_ircbot = df_ircbot.values\n",
    "df_okiru = df_okiru.values\n",
    "df_gagfyt = df_gagfyt.values\n",
    "df_hideandseek = df_hideandseek.values\n",
    "df_hakai = df_hakai.values\n",
    "df_torii = df_torii.values\n",
    "\n",
    "print(df_all.shape)\n",
    "print(df_benign.shape)\n",
    "print(df_mirai.shape)\n",
    "print(df_kenjiro.shape)\n",
    "print(df_ircbot.shape)\n",
    "print(df_okiru.shape)\n",
    "print(df_gagfyt.shape)\n",
    "print(df_hideandseek.shape)\n",
    "print(df_hakai.shape)\n",
    "print(df_torii.shape)"
   ]
  },
  {
   "cell_type": "code",
   "execution_count": 15,
   "id": "2fb846bc",
   "metadata": {},
   "outputs": [],
   "source": [
    "scaler = MinMaxScaler()"
   ]
  },
  {
   "cell_type": "code",
   "execution_count": 16,
   "id": "2adb311d",
   "metadata": {},
   "outputs": [
    {
     "data": {
      "text/plain": [
       "MinMaxScaler()"
      ]
     },
     "execution_count": 16,
     "metadata": {},
     "output_type": "execute_result"
    }
   ],
   "source": [
    "scaler.fit(df_all)"
   ]
  },
  {
   "cell_type": "code",
   "execution_count": 17,
   "id": "48bf7d80",
   "metadata": {},
   "outputs": [],
   "source": [
    "normalized_benign = scaler.transform(df_benign)\n",
    "normalized_mirai = scaler.transform(df_mirai)\n",
    "normalized_kenjiro = scaler.transform(df_kenjiro)\n",
    "normalized_ircbot = scaler.transform(df_ircbot)\n",
    "normalized_okiru = scaler.transform(df_okiru)\n",
    "normalized_gagfyt = scaler.transform(df_gagfyt)\n",
    "normalized_hideandseek = scaler.transform(df_hideandseek)\n",
    "normalized_hakai = scaler.transform(df_hakai)\n",
    "normalized_torii = scaler.transform(df_torii)"
   ]
  },
  {
   "cell_type": "code",
   "execution_count": 18,
   "id": "898e3358",
   "metadata": {},
   "outputs": [
    {
     "data": {
      "text/plain": [
       "(192079, 520)"
      ]
     },
     "execution_count": 18,
     "metadata": {},
     "output_type": "execute_result"
    }
   ],
   "source": [
    "normalized_benign.shape"
   ]
  },
  {
   "cell_type": "code",
   "execution_count": 19,
   "id": "09ad332e",
   "metadata": {},
   "outputs": [
    {
     "name": "stdout",
     "output_type": "stream",
     "text": [
      "(192079, 20, 26)\n",
      "(391101, 20, 26)\n",
      "(197396, 20, 26)\n",
      "(196808, 20, 26)\n",
      "(99958, 20, 26)\n",
      "(99496, 20, 26)\n",
      "(55023, 20, 26)\n",
      "(8202, 20, 26)\n",
      "(10, 20, 26)\n"
     ]
    }
   ],
   "source": [
    "df_benign = normalized_benign.reshape(normalized_benign.shape[0], 20, 26)\n",
    "df_mirai = normalized_mirai.reshape(normalized_mirai.shape[0], 20, 26)\n",
    "df_kenjiro = normalized_kenjiro.reshape(normalized_kenjiro.shape[0], 20, 26)\n",
    "df_ircbot = normalized_ircbot.reshape(normalized_ircbot.shape[0], 20, 26)\n",
    "df_okiru = normalized_okiru.reshape(normalized_okiru.shape[0], 20, 26)\n",
    "df_gagfyt = normalized_gagfyt.reshape(normalized_gagfyt.shape[0], 20, 26)\n",
    "df_hideandseek = normalized_hideandseek.reshape(normalized_hideandseek.shape[0], 20, 26)\n",
    "df_hakai = normalized_hakai.reshape(normalized_hakai.shape[0], 20, 26)\n",
    "df_torii = normalized_torii.reshape(normalized_torii.shape[0], 20, 26)\n",
    "\n",
    "print(df_benign.shape)\n",
    "print(df_mirai.shape)\n",
    "print(df_kenjiro.shape)\n",
    "print(df_ircbot.shape)\n",
    "print(df_okiru.shape)\n",
    "print(df_gagfyt.shape)\n",
    "print(df_hideandseek.shape)\n",
    "print(df_hakai.shape)\n",
    "print(df_torii.shape)"
   ]
  },
  {
   "cell_type": "code",
   "execution_count": 20,
   "id": "a204b1e9",
   "metadata": {},
   "outputs": [],
   "source": [
    "df_benign = np.append(df_benign, np.zeros((len(df_benign),len(df_benign[0]),1)), axis=2)\n",
    "df_mirai = np.append(df_mirai, np.ones((len(df_mirai),len(df_mirai[0]),1)), axis=2)\n",
    "df_kenjiro = np.append(df_kenjiro, np.full((len(df_kenjiro),len(df_kenjiro[0]),1), 2), axis=2)\n",
    "df_ircbot = np.append(df_ircbot, np.full((len(df_ircbot),len(df_ircbot[0]),1), 3), axis=2)\n",
    "df_okiru = np.append(df_okiru, np.full((len(df_okiru),len(df_okiru[0]),1), 4), axis=2)\n",
    "df_gagfyt = np.append(df_gagfyt, np.full((len(df_gagfyt),len(df_gagfyt[0]),1), 5), axis=2)\n",
    "df_hideandseek = np.append(df_hideandseek, np.full((len(df_hideandseek),len(df_hideandseek[0]),1), 6), axis=2)\n",
    "df_hakai = np.append(df_hakai, np.full((len(df_hakai),len(df_hakai[0]),1), 7), axis=2)\n",
    "df_torii = np.append(df_torii, np.full((len(df_torii),len(df_torii[0]),1), 8), axis=2)"
   ]
  },
  {
   "cell_type": "code",
   "execution_count": 21,
   "id": "b24a20fe",
   "metadata": {},
   "outputs": [
    {
     "name": "stdout",
     "output_type": "stream",
     "text": [
      "(1240073, 20, 27)\n"
     ]
    }
   ],
   "source": [
    "np_dataset = np.vstack([df_benign, df_mirai, df_kenjiro, df_ircbot, df_okiru, df_gagfyt, df_hideandseek, df_hakai, df_torii])\n",
    "\n",
    "print(np_dataset.shape)"
   ]
  },
  {
   "cell_type": "code",
   "execution_count": 22,
   "id": "98937482",
   "metadata": {},
   "outputs": [
    {
     "name": "stdout",
     "output_type": "stream",
     "text": [
      "(1240073, 20, 26)\n",
      "(1240073,)\n"
     ]
    }
   ],
   "source": [
    "x_data = np_dataset[:,:,:-1]\n",
    "labels = np_dataset[:, 0, -1]\n",
    "\n",
    "print(x_data.shape)\n",
    "print(labels.shape)"
   ]
  },
  {
   "cell_type": "code",
   "execution_count": 23,
   "id": "d2e7337d",
   "metadata": {},
   "outputs": [
    {
     "data": {
      "text/plain": [
       "(1240073, 9)"
      ]
     },
     "execution_count": 23,
     "metadata": {},
     "output_type": "execute_result"
    }
   ],
   "source": [
    "from tensorflow.keras.utils import to_categorical\n",
    "\n",
    "y_data = to_categorical(labels, num_classes=9)\n",
    "y_data.shape"
   ]
  },
  {
   "cell_type": "code",
   "execution_count": 24,
   "id": "touched-tanzania",
   "metadata": {},
   "outputs": [],
   "source": [
    "from sklearn.model_selection import train_test_split\n",
    "\n",
    "X_train, X_test, Y_train, Y_test = train_test_split(x_data, y_data, random_state=10, test_size=0.2)"
   ]
  },
  {
   "cell_type": "code",
   "execution_count": 25,
   "id": "lightweight-trail",
   "metadata": {},
   "outputs": [
    {
     "name": "stdout",
     "output_type": "stream",
     "text": [
      "(992058, 20, 26) (992058, 9)\n",
      "(248015, 20, 26) (248015, 9)\n"
     ]
    }
   ],
   "source": [
    "print(X_train.shape, Y_train.shape) # 학습데이터 및 정답레이블\n",
    "print(X_test.shape, Y_test.shape) #검증데이터 및 정답레이블"
   ]
  },
  {
   "cell_type": "code",
   "execution_count": 26,
   "id": "worst-restriction",
   "metadata": {},
   "outputs": [],
   "source": [
    "model = Sequential()"
   ]
  },
  {
   "cell_type": "code",
   "execution_count": 27,
   "id": "earned-advertiser",
   "metadata": {},
   "outputs": [],
   "source": [
    "model.add(LSTM(units=64, activation='relu', input_shape=X_train.shape[1:3], return_sequences=False))\n",
    "model.add(Dropout(0.2))\n",
    "model.add(Dense(32,activation='relu'))\n",
    "model.add(Dropout(0.2))\n",
    "model.add(Dense(9, activation='softmax'))\n",
    "model.compile(loss='categorical_crossentropy', optimizer='adam', metrics=['accuracy'])"
   ]
  },
  {
   "cell_type": "code",
   "execution_count": 28,
   "id": "specified-duplicate",
   "metadata": {},
   "outputs": [
    {
     "name": "stdout",
     "output_type": "stream",
     "text": [
      "Model: \"sequential\"\n",
      "_________________________________________________________________\n",
      " Layer (type)                Output Shape              Param #   \n",
      "=================================================================\n",
      " lstm (LSTM)                 (None, 64)                23296     \n",
      "                                                                 \n",
      " dropout (Dropout)           (None, 64)                0         \n",
      "                                                                 \n",
      " dense (Dense)               (None, 32)                2080      \n",
      "                                                                 \n",
      " dropout_1 (Dropout)         (None, 32)                0         \n",
      "                                                                 \n",
      " dense_1 (Dense)             (None, 9)                 297       \n",
      "                                                                 \n",
      "=================================================================\n",
      "Total params: 25,673\n",
      "Trainable params: 25,673\n",
      "Non-trainable params: 0\n",
      "_________________________________________________________________\n"
     ]
    }
   ],
   "source": [
    "model.summary()"
   ]
  },
  {
   "cell_type": "code",
   "execution_count": 29,
   "id": "recognized-sunset",
   "metadata": {},
   "outputs": [],
   "source": [
    "import time"
   ]
  },
  {
   "cell_type": "code",
   "execution_count": 39,
   "id": "distinct-effort",
   "metadata": {},
   "outputs": [
    {
     "name": "stdout",
     "output_type": "stream",
     "text": [
      "program start...\n",
      "\n",
      "Epoch 1/10\n",
      "969/969 [==============================] - 59s 61ms/step - loss: 0.3092 - accuracy: 0.8297 - val_loss: 0.2691 - val_accuracy: 0.8409\n",
      "Epoch 2/10\n",
      "969/969 [==============================] - 59s 61ms/step - loss: 0.2720 - accuracy: 0.8390 - val_loss: 0.2659 - val_accuracy: 0.8417\n",
      "Epoch 3/10\n",
      "969/969 [==============================] - 58s 59ms/step - loss: 0.2843 - accuracy: 0.8369 - val_loss: 0.2671 - val_accuracy: 0.8415\n",
      "Epoch 4/10\n",
      "969/969 [==============================] - 58s 59ms/step - loss: 0.2707 - accuracy: 0.8391 - val_loss: 0.2651 - val_accuracy: 0.8419\n",
      "Epoch 5/10\n",
      "969/969 [==============================] - 57s 59ms/step - loss: 0.2811 - accuracy: 0.8371 - val_loss: 0.2655 - val_accuracy: 0.8414\n",
      "Epoch 6/10\n",
      "969/969 [==============================] - 58s 60ms/step - loss: 0.2721 - accuracy: 0.8395 - val_loss: 0.2650 - val_accuracy: 0.8423\n",
      "Epoch 7/10\n",
      "969/969 [==============================] - 59s 61ms/step - loss: 0.2829 - accuracy: 0.8363 - val_loss: 0.2650 - val_accuracy: 0.8419\n",
      "Epoch 8/10\n",
      "969/969 [==============================] - 60s 62ms/step - loss: 0.2680 - accuracy: 0.8400 - val_loss: 0.2660 - val_accuracy: 0.8401\n",
      "Epoch 9/10\n",
      "969/969 [==============================] - 59s 61ms/step - loss: 0.2821 - accuracy: 0.8367 - val_loss: 0.2704 - val_accuracy: 0.8400\n",
      "Epoch 10/10\n",
      "969/969 [==============================] - 59s 61ms/step - loss: 0.2671 - accuracy: 0.8403 - val_loss: 0.2637 - val_accuracy: 0.8408\n",
      "\n",
      "program end...\n",
      "\n",
      "time cost: \n",
      "586.8956427574158 seconds\n"
     ]
    }
   ],
   "source": [
    "start = time.time()\n",
    "print('program start...')\n",
    "print()\n",
    "\n",
    "history = model.fit(\n",
    "    X_train, \n",
    "    Y_train, \n",
    "    epochs = 10, \n",
    "    batch_size=1024, \n",
    "    validation_data=(X_test,Y_test),\n",
    "    verbose=1)\n",
    "\n",
    "print()\n",
    "end = time.time()\n",
    "print('program end...')\n",
    "print()\n",
    "print('time cost: ')\n",
    "print(end - start, 'seconds')"
   ]
  },
  {
   "cell_type": "code",
   "execution_count": 40,
   "id": "proper-payroll",
   "metadata": {},
   "outputs": [
    {
     "data": {
      "image/png": "[encoded data removed]",
      "text/plain": [
       "<Figure size 1152x720 with 2 Axes>"
      ]
     },
     "metadata": {
      "needs_background": "light"
     },
     "output_type": "display_data"
    }
   ],
   "source": [
    "fig, loss_ax = plt.subplots(figsize = (16,10))\n",
    "acc_ax = loss_ax.twinx()\n",
    "\n",
    "loss_ax.plot(history.history['loss'], 'y', label='train loss')\n",
    "loss_ax.plot(history.history['val_loss'], 'r', label='val loss')\n",
    "loss_ax.set_xlabel('epoch')\n",
    "loss_ax.set_ylabel('loss')\n",
    "loss_ax.legend(loc='upper left')\n",
    "\n",
    "acc_ax.plot(history.history['accuracy'], 'b', label='train accuracy')\n",
    "acc_ax.plot(history.history['val_accuracy'], 'g', label='val accuracy')\n",
    "acc_ax.set_ylabel('accuracy')\n",
    "acc_ax.legend(loc='upper right')\n",
    "\n",
    "plt.show()"
   ]
  },
  {
   "cell_type": "code",
   "execution_count": 32,
   "id": "b8b14d93",
   "metadata": {},
   "outputs": [],
   "source": [
    "model.save('model_LSTM.h5')"
   ]
  },
  {
   "cell_type": "code",
   "execution_count": 33,
   "id": "1b25888f",
   "metadata": {},
   "outputs": [],
   "source": [
    "new_model = tf.keras.models.load_model('model_LSTM.h5')"
   ]
  },
  {
   "cell_type": "code",
   "execution_count": 34,
   "id": "cb7ea8ce",
   "metadata": {},
   "outputs": [
    {
     "data": {
      "text/plain": [
       "(248015, 9)"
      ]
     },
     "execution_count": 34,
     "metadata": {},
     "output_type": "execute_result"
    }
   ],
   "source": [
    "Y_test.shape"
   ]
  },
  {
   "cell_type": "code",
   "execution_count": 35,
   "id": "d12945fb",
   "metadata": {},
   "outputs": [
    {
     "data": {
      "text/plain": [
       "(248015, 20, 26)"
      ]
     },
     "execution_count": 35,
     "metadata": {},
     "output_type": "execute_result"
    }
   ],
   "source": [
    "X_test.shape"
   ]
  },
  {
   "cell_type": "code",
   "execution_count": 36,
   "id": "14a91dcb",
   "metadata": {},
   "outputs": [
    {
     "name": "stdout",
     "output_type": "stream",
     "text": [
      "7751/7751 [==============================] - 13s 2ms/step - loss: 0.2698 - accuracy: 0.8409\n"
     ]
    }
   ],
   "source": [
    "test_loss, test_acc = new_model.evaluate(X_test, Y_test, verbose=1)"
   ]
  }
 ],
 "metadata": {
  "kernelspec": {
   "display_name": "Python 3",
   "language": "python",
   "name": "python3"
  },
  "language_info": {
   "codemirror_mode": {
    "name": "ipython",
    "version": 3
   },
   "file_extension": ".py",
   "mimetype": "text/x-python",
   "name": "python",
   "nbconvert_exporter": "python",
   "pygments_lexer": "ipython3",
   "version": "3.8.10"
  }
 },
 "nbformat": 4,
 "nbformat_minor": 5
}
