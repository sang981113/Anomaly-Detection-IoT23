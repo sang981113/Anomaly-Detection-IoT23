{
 "cells": [
  {
   "cell_type": "code",
   "execution_count": 28,
   "id": "floating-offense",
   "metadata": {},
   "outputs": [],
   "source": [
    "import numpy as np\n",
    "import pandas as pd\n",
    "import tensorflow as tf\n",
    "import matplotlib.pyplot as plt\n",
    "from tensorflow.keras import Model\n",
    "from tensorflow.keras import Sequential\n",
    "from tensorflow.keras.models import Sequential, Model\n",
    "from tensorflow.keras.layers import Conv2D, Input, Dropout, Activation, Dense, MaxPooling2D, Flatten, GlobalAveragePooling2D\n",
    "from tensorflow.keras.optimizers import Adadelta\n",
    "from tensorflow.keras.callbacks import ModelCheckpoint\n",
    "from tensorflow.keras.layers import Dense\n",
    "from tensorflow.keras.layers import LSTM, GRU\n",
    "import sklearn\n",
    "from sklearn.preprocessing import MinMaxScaler"
   ]
  },
  {
   "cell_type": "code",
   "execution_count": 2,
   "id": "1a47b15b",
   "metadata": {},
   "outputs": [],
   "source": [
    "import os\n",
    "\n",
    "os.environ['CUDA_VISIBLE_DEVICES'] = '1'\n",
    "os.environ['TF_FORCE_GPU_ALLOW_GROWTH'] = 'true'"
   ]
  },
  {
   "cell_type": "code",
   "execution_count": 3,
   "id": "e52f23e4",
   "metadata": {},
   "outputs": [],
   "source": [
    "filepath = \"iot23_sequential_malicious.csv\"\n",
    "df_malicious = pd.read_csv(filepath)"
   ]
  },
  {
   "cell_type": "code",
   "execution_count": 4,
   "id": "better-permit",
   "metadata": {},
   "outputs": [],
   "source": [
    "filepath = \"iot23_sequential_benign.csv\"\n",
    "df_benign = pd.read_csv(filepath)"
   ]
  },
  {
   "cell_type": "code",
   "execution_count": 5,
   "id": "aa06793a",
   "metadata": {},
   "outputs": [],
   "source": [
    "df = pd.concat([df_benign, df_malicious])"
   ]
  },
  {
   "cell_type": "code",
   "execution_count": 6,
   "id": "initial-biotechnology",
   "metadata": {},
   "outputs": [
    {
     "data": {
      "text/html": [
       "<div>\n",
       "<style scoped>\n",
       "    .dataframe tbody tr th:only-of-type {\n",
       "        vertical-align: middle;\n",
       "    }\n",
       "\n",
       "    .dataframe tbody tr th {\n",
       "        vertical-align: top;\n",
       "    }\n",
       "\n",
       "    .dataframe thead th {\n",
       "        text-align: right;\n",
       "    }\n",
       "</style>\n",
       "<table border=\"1\" class=\"dataframe\">\n",
       "  <thead>\n",
       "    <tr style=\"text-align: right;\">\n",
       "      <th></th>\n",
       "      <th>Unnamed: 0</th>\n",
       "      <th>shift_id.orig_p_1</th>\n",
       "      <th>shift_id.resp_p_1</th>\n",
       "      <th>shift_duration_1</th>\n",
       "      <th>shift_orig_bytes_1</th>\n",
       "      <th>shift_resp_bytes_1</th>\n",
       "      <th>shift_missed_bytes_1</th>\n",
       "      <th>shift_orig_pkts_1</th>\n",
       "      <th>shift_orig_ip_bytes_1</th>\n",
       "      <th>shift_resp_pkts_1</th>\n",
       "      <th>...</th>\n",
       "      <th>shift_conn_state_RSTOS0_20</th>\n",
       "      <th>shift_conn_state_RSTR_20</th>\n",
       "      <th>shift_conn_state_RSTRH_20</th>\n",
       "      <th>shift_conn_state_S0_20</th>\n",
       "      <th>shift_conn_state_S1_20</th>\n",
       "      <th>shift_conn_state_S2_20</th>\n",
       "      <th>shift_conn_state_S3_20</th>\n",
       "      <th>shift_conn_state_SF_20</th>\n",
       "      <th>shift_conn_state_SH_20</th>\n",
       "      <th>shift_conn_state_SHR_20</th>\n",
       "    </tr>\n",
       "  </thead>\n",
       "  <tbody>\n",
       "    <tr>\n",
       "      <th>0</th>\n",
       "      <td>23</td>\n",
       "      <td>51524.0</td>\n",
       "      <td>23.0</td>\n",
       "      <td>0.000000</td>\n",
       "      <td>0</td>\n",
       "      <td>0</td>\n",
       "      <td>0.0</td>\n",
       "      <td>1.0</td>\n",
       "      <td>60.0</td>\n",
       "      <td>0.0</td>\n",
       "      <td>...</td>\n",
       "      <td>0.0</td>\n",
       "      <td>0.0</td>\n",
       "      <td>0.0</td>\n",
       "      <td>1.0</td>\n",
       "      <td>0.0</td>\n",
       "      <td>0.0</td>\n",
       "      <td>0.0</td>\n",
       "      <td>0.0</td>\n",
       "      <td>0.0</td>\n",
       "      <td>0.0</td>\n",
       "    </tr>\n",
       "    <tr>\n",
       "      <th>1</th>\n",
       "      <td>24</td>\n",
       "      <td>52702.0</td>\n",
       "      <td>2323.0</td>\n",
       "      <td>2.999068</td>\n",
       "      <td>0</td>\n",
       "      <td>0</td>\n",
       "      <td>0.0</td>\n",
       "      <td>3.0</td>\n",
       "      <td>180.0</td>\n",
       "      <td>0.0</td>\n",
       "      <td>...</td>\n",
       "      <td>0.0</td>\n",
       "      <td>0.0</td>\n",
       "      <td>0.0</td>\n",
       "      <td>1.0</td>\n",
       "      <td>0.0</td>\n",
       "      <td>0.0</td>\n",
       "      <td>0.0</td>\n",
       "      <td>0.0</td>\n",
       "      <td>0.0</td>\n",
       "      <td>0.0</td>\n",
       "    </tr>\n",
       "    <tr>\n",
       "      <th>2</th>\n",
       "      <td>25</td>\n",
       "      <td>60905.0</td>\n",
       "      <td>23.0</td>\n",
       "      <td>0.000000</td>\n",
       "      <td>0</td>\n",
       "      <td>0</td>\n",
       "      <td>0.0</td>\n",
       "      <td>1.0</td>\n",
       "      <td>60.0</td>\n",
       "      <td>0.0</td>\n",
       "      <td>...</td>\n",
       "      <td>0.0</td>\n",
       "      <td>0.0</td>\n",
       "      <td>0.0</td>\n",
       "      <td>1.0</td>\n",
       "      <td>0.0</td>\n",
       "      <td>0.0</td>\n",
       "      <td>0.0</td>\n",
       "      <td>0.0</td>\n",
       "      <td>0.0</td>\n",
       "      <td>0.0</td>\n",
       "    </tr>\n",
       "    <tr>\n",
       "      <th>3</th>\n",
       "      <td>26</td>\n",
       "      <td>40485.0</td>\n",
       "      <td>8080.0</td>\n",
       "      <td>2.998813</td>\n",
       "      <td>0</td>\n",
       "      <td>0</td>\n",
       "      <td>0.0</td>\n",
       "      <td>3.0</td>\n",
       "      <td>180.0</td>\n",
       "      <td>0.0</td>\n",
       "      <td>...</td>\n",
       "      <td>0.0</td>\n",
       "      <td>0.0</td>\n",
       "      <td>0.0</td>\n",
       "      <td>1.0</td>\n",
       "      <td>0.0</td>\n",
       "      <td>0.0</td>\n",
       "      <td>0.0</td>\n",
       "      <td>0.0</td>\n",
       "      <td>0.0</td>\n",
       "      <td>0.0</td>\n",
       "    </tr>\n",
       "    <tr>\n",
       "      <th>4</th>\n",
       "      <td>28</td>\n",
       "      <td>39813.0</td>\n",
       "      <td>23.0</td>\n",
       "      <td>0.000000</td>\n",
       "      <td>0</td>\n",
       "      <td>0</td>\n",
       "      <td>0.0</td>\n",
       "      <td>1.0</td>\n",
       "      <td>60.0</td>\n",
       "      <td>0.0</td>\n",
       "      <td>...</td>\n",
       "      <td>0.0</td>\n",
       "      <td>0.0</td>\n",
       "      <td>0.0</td>\n",
       "      <td>1.0</td>\n",
       "      <td>0.0</td>\n",
       "      <td>0.0</td>\n",
       "      <td>0.0</td>\n",
       "      <td>0.0</td>\n",
       "      <td>0.0</td>\n",
       "      <td>0.0</td>\n",
       "    </tr>\n",
       "    <tr>\n",
       "      <th>...</th>\n",
       "      <td>...</td>\n",
       "      <td>...</td>\n",
       "      <td>...</td>\n",
       "      <td>...</td>\n",
       "      <td>...</td>\n",
       "      <td>...</td>\n",
       "      <td>...</td>\n",
       "      <td>...</td>\n",
       "      <td>...</td>\n",
       "      <td>...</td>\n",
       "      <td>...</td>\n",
       "      <td>...</td>\n",
       "      <td>...</td>\n",
       "      <td>...</td>\n",
       "      <td>...</td>\n",
       "      <td>...</td>\n",
       "      <td>...</td>\n",
       "      <td>...</td>\n",
       "      <td>...</td>\n",
       "      <td>...</td>\n",
       "      <td>...</td>\n",
       "    </tr>\n",
       "    <tr>\n",
       "      <th>1246840</th>\n",
       "      <td>99994</td>\n",
       "      <td>60039.0</td>\n",
       "      <td>23.0</td>\n",
       "      <td>0.000000</td>\n",
       "      <td>0</td>\n",
       "      <td>0</td>\n",
       "      <td>0.0</td>\n",
       "      <td>1.0</td>\n",
       "      <td>40.0</td>\n",
       "      <td>0.0</td>\n",
       "      <td>...</td>\n",
       "      <td>0.0</td>\n",
       "      <td>0.0</td>\n",
       "      <td>0.0</td>\n",
       "      <td>1.0</td>\n",
       "      <td>0.0</td>\n",
       "      <td>0.0</td>\n",
       "      <td>0.0</td>\n",
       "      <td>0.0</td>\n",
       "      <td>0.0</td>\n",
       "      <td>0.0</td>\n",
       "    </tr>\n",
       "    <tr>\n",
       "      <th>1246841</th>\n",
       "      <td>99995</td>\n",
       "      <td>41762.0</td>\n",
       "      <td>23.0</td>\n",
       "      <td>0.000000</td>\n",
       "      <td>0</td>\n",
       "      <td>0</td>\n",
       "      <td>0.0</td>\n",
       "      <td>1.0</td>\n",
       "      <td>40.0</td>\n",
       "      <td>0.0</td>\n",
       "      <td>...</td>\n",
       "      <td>0.0</td>\n",
       "      <td>0.0</td>\n",
       "      <td>0.0</td>\n",
       "      <td>1.0</td>\n",
       "      <td>0.0</td>\n",
       "      <td>0.0</td>\n",
       "      <td>0.0</td>\n",
       "      <td>0.0</td>\n",
       "      <td>0.0</td>\n",
       "      <td>0.0</td>\n",
       "    </tr>\n",
       "    <tr>\n",
       "      <th>1246842</th>\n",
       "      <td>99996</td>\n",
       "      <td>58758.0</td>\n",
       "      <td>23.0</td>\n",
       "      <td>0.000000</td>\n",
       "      <td>0</td>\n",
       "      <td>0</td>\n",
       "      <td>0.0</td>\n",
       "      <td>1.0</td>\n",
       "      <td>40.0</td>\n",
       "      <td>0.0</td>\n",
       "      <td>...</td>\n",
       "      <td>0.0</td>\n",
       "      <td>0.0</td>\n",
       "      <td>0.0</td>\n",
       "      <td>1.0</td>\n",
       "      <td>0.0</td>\n",
       "      <td>0.0</td>\n",
       "      <td>0.0</td>\n",
       "      <td>0.0</td>\n",
       "      <td>0.0</td>\n",
       "      <td>0.0</td>\n",
       "    </tr>\n",
       "    <tr>\n",
       "      <th>1246843</th>\n",
       "      <td>99997</td>\n",
       "      <td>40400.0</td>\n",
       "      <td>23.0</td>\n",
       "      <td>0.000000</td>\n",
       "      <td>0</td>\n",
       "      <td>0</td>\n",
       "      <td>0.0</td>\n",
       "      <td>1.0</td>\n",
       "      <td>40.0</td>\n",
       "      <td>0.0</td>\n",
       "      <td>...</td>\n",
       "      <td>0.0</td>\n",
       "      <td>0.0</td>\n",
       "      <td>0.0</td>\n",
       "      <td>1.0</td>\n",
       "      <td>0.0</td>\n",
       "      <td>0.0</td>\n",
       "      <td>0.0</td>\n",
       "      <td>0.0</td>\n",
       "      <td>0.0</td>\n",
       "      <td>0.0</td>\n",
       "    </tr>\n",
       "    <tr>\n",
       "      <th>1246844</th>\n",
       "      <td>99998</td>\n",
       "      <td>27117.0</td>\n",
       "      <td>23.0</td>\n",
       "      <td>0.000000</td>\n",
       "      <td>0</td>\n",
       "      <td>0</td>\n",
       "      <td>0.0</td>\n",
       "      <td>1.0</td>\n",
       "      <td>40.0</td>\n",
       "      <td>0.0</td>\n",
       "      <td>...</td>\n",
       "      <td>0.0</td>\n",
       "      <td>0.0</td>\n",
       "      <td>0.0</td>\n",
       "      <td>1.0</td>\n",
       "      <td>0.0</td>\n",
       "      <td>0.0</td>\n",
       "      <td>0.0</td>\n",
       "      <td>0.0</td>\n",
       "      <td>0.0</td>\n",
       "      <td>0.0</td>\n",
       "    </tr>\n",
       "  </tbody>\n",
       "</table>\n",
       "<p>1246845 rows × 521 columns</p>\n",
       "</div>"
      ],
      "text/plain": [
       "         Unnamed: 0  shift_id.orig_p_1  shift_id.resp_p_1  shift_duration_1  \\\n",
       "0                23            51524.0               23.0          0.000000   \n",
       "1                24            52702.0             2323.0          2.999068   \n",
       "2                25            60905.0               23.0          0.000000   \n",
       "3                26            40485.0             8080.0          2.998813   \n",
       "4                28            39813.0               23.0          0.000000   \n",
       "...             ...                ...                ...               ...   \n",
       "1246840       99994            60039.0               23.0          0.000000   \n",
       "1246841       99995            41762.0               23.0          0.000000   \n",
       "1246842       99996            58758.0               23.0          0.000000   \n",
       "1246843       99997            40400.0               23.0          0.000000   \n",
       "1246844       99998            27117.0               23.0          0.000000   \n",
       "\n",
       "         shift_orig_bytes_1  shift_resp_bytes_1  shift_missed_bytes_1  \\\n",
       "0                         0                   0                   0.0   \n",
       "1                         0                   0                   0.0   \n",
       "2                         0                   0                   0.0   \n",
       "3                         0                   0                   0.0   \n",
       "4                         0                   0                   0.0   \n",
       "...                     ...                 ...                   ...   \n",
       "1246840                   0                   0                   0.0   \n",
       "1246841                   0                   0                   0.0   \n",
       "1246842                   0                   0                   0.0   \n",
       "1246843                   0                   0                   0.0   \n",
       "1246844                   0                   0                   0.0   \n",
       "\n",
       "         shift_orig_pkts_1  shift_orig_ip_bytes_1  shift_resp_pkts_1  ...  \\\n",
       "0                      1.0                   60.0                0.0  ...   \n",
       "1                      3.0                  180.0                0.0  ...   \n",
       "2                      1.0                   60.0                0.0  ...   \n",
       "3                      3.0                  180.0                0.0  ...   \n",
       "4                      1.0                   60.0                0.0  ...   \n",
       "...                    ...                    ...                ...  ...   \n",
       "1246840                1.0                   40.0                0.0  ...   \n",
       "1246841                1.0                   40.0                0.0  ...   \n",
       "1246842                1.0                   40.0                0.0  ...   \n",
       "1246843                1.0                   40.0                0.0  ...   \n",
       "1246844                1.0                   40.0                0.0  ...   \n",
       "\n",
       "         shift_conn_state_RSTOS0_20  shift_conn_state_RSTR_20  \\\n",
       "0                               0.0                       0.0   \n",
       "1                               0.0                       0.0   \n",
       "2                               0.0                       0.0   \n",
       "3                               0.0                       0.0   \n",
       "4                               0.0                       0.0   \n",
       "...                             ...                       ...   \n",
       "1246840                         0.0                       0.0   \n",
       "1246841                         0.0                       0.0   \n",
       "1246842                         0.0                       0.0   \n",
       "1246843                         0.0                       0.0   \n",
       "1246844                         0.0                       0.0   \n",
       "\n",
       "         shift_conn_state_RSTRH_20  shift_conn_state_S0_20  \\\n",
       "0                              0.0                     1.0   \n",
       "1                              0.0                     1.0   \n",
       "2                              0.0                     1.0   \n",
       "3                              0.0                     1.0   \n",
       "4                              0.0                     1.0   \n",
       "...                            ...                     ...   \n",
       "1246840                        0.0                     1.0   \n",
       "1246841                        0.0                     1.0   \n",
       "1246842                        0.0                     1.0   \n",
       "1246843                        0.0                     1.0   \n",
       "1246844                        0.0                     1.0   \n",
       "\n",
       "         shift_conn_state_S1_20  shift_conn_state_S2_20  \\\n",
       "0                           0.0                     0.0   \n",
       "1                           0.0                     0.0   \n",
       "2                           0.0                     0.0   \n",
       "3                           0.0                     0.0   \n",
       "4                           0.0                     0.0   \n",
       "...                         ...                     ...   \n",
       "1246840                     0.0                     0.0   \n",
       "1246841                     0.0                     0.0   \n",
       "1246842                     0.0                     0.0   \n",
       "1246843                     0.0                     0.0   \n",
       "1246844                     0.0                     0.0   \n",
       "\n",
       "         shift_conn_state_S3_20  shift_conn_state_SF_20  \\\n",
       "0                           0.0                     0.0   \n",
       "1                           0.0                     0.0   \n",
       "2                           0.0                     0.0   \n",
       "3                           0.0                     0.0   \n",
       "4                           0.0                     0.0   \n",
       "...                         ...                     ...   \n",
       "1246840                     0.0                     0.0   \n",
       "1246841                     0.0                     0.0   \n",
       "1246842                     0.0                     0.0   \n",
       "1246843                     0.0                     0.0   \n",
       "1246844                     0.0                     0.0   \n",
       "\n",
       "         shift_conn_state_SH_20  shift_conn_state_SHR_20  \n",
       "0                           0.0                      0.0  \n",
       "1                           0.0                      0.0  \n",
       "2                           0.0                      0.0  \n",
       "3                           0.0                      0.0  \n",
       "4                           0.0                      0.0  \n",
       "...                         ...                      ...  \n",
       "1246840                     0.0                      0.0  \n",
       "1246841                     0.0                      0.0  \n",
       "1246842                     0.0                      0.0  \n",
       "1246843                     0.0                      0.0  \n",
       "1246844                     0.0                      0.0  \n",
       "\n",
       "[1246845 rows x 521 columns]"
      ]
     },
     "execution_count": 6,
     "metadata": {},
     "output_type": "execute_result"
    }
   ],
   "source": [
    "df_malicious"
   ]
  },
  {
   "cell_type": "code",
   "execution_count": 7,
   "id": "0487aada",
   "metadata": {},
   "outputs": [
    {
     "data": {
      "text/html": [
       "<div>\n",
       "<style scoped>\n",
       "    .dataframe tbody tr th:only-of-type {\n",
       "        vertical-align: middle;\n",
       "    }\n",
       "\n",
       "    .dataframe tbody tr th {\n",
       "        vertical-align: top;\n",
       "    }\n",
       "\n",
       "    .dataframe thead th {\n",
       "        text-align: right;\n",
       "    }\n",
       "</style>\n",
       "<table border=\"1\" class=\"dataframe\">\n",
       "  <thead>\n",
       "    <tr style=\"text-align: right;\">\n",
       "      <th></th>\n",
       "      <th>Unnamed: 0</th>\n",
       "      <th>shift_id.orig_p_1</th>\n",
       "      <th>shift_id.resp_p_1</th>\n",
       "      <th>shift_duration_1</th>\n",
       "      <th>shift_orig_bytes_1</th>\n",
       "      <th>shift_resp_bytes_1</th>\n",
       "      <th>shift_missed_bytes_1</th>\n",
       "      <th>shift_orig_pkts_1</th>\n",
       "      <th>shift_orig_ip_bytes_1</th>\n",
       "      <th>shift_resp_pkts_1</th>\n",
       "      <th>...</th>\n",
       "      <th>shift_conn_state_RSTOS0_20</th>\n",
       "      <th>shift_conn_state_RSTR_20</th>\n",
       "      <th>shift_conn_state_RSTRH_20</th>\n",
       "      <th>shift_conn_state_S0_20</th>\n",
       "      <th>shift_conn_state_S1_20</th>\n",
       "      <th>shift_conn_state_S2_20</th>\n",
       "      <th>shift_conn_state_S3_20</th>\n",
       "      <th>shift_conn_state_SF_20</th>\n",
       "      <th>shift_conn_state_SH_20</th>\n",
       "      <th>shift_conn_state_SHR_20</th>\n",
       "    </tr>\n",
       "  </thead>\n",
       "  <tbody>\n",
       "    <tr>\n",
       "      <th>0</th>\n",
       "      <td>120</td>\n",
       "      <td>43763.0</td>\n",
       "      <td>15976.0</td>\n",
       "      <td>0.000000</td>\n",
       "      <td>0</td>\n",
       "      <td>0</td>\n",
       "      <td>0.0</td>\n",
       "      <td>1.0</td>\n",
       "      <td>40.0</td>\n",
       "      <td>0.0</td>\n",
       "      <td>...</td>\n",
       "      <td>0.0</td>\n",
       "      <td>0.0</td>\n",
       "      <td>0.0</td>\n",
       "      <td>1.0</td>\n",
       "      <td>0.0</td>\n",
       "      <td>0.0</td>\n",
       "      <td>0.0</td>\n",
       "      <td>0.0</td>\n",
       "      <td>0.0</td>\n",
       "      <td>0.0</td>\n",
       "    </tr>\n",
       "    <tr>\n",
       "      <th>1</th>\n",
       "      <td>121</td>\n",
       "      <td>123.0</td>\n",
       "      <td>123.0</td>\n",
       "      <td>0.001239</td>\n",
       "      <td>48</td>\n",
       "      <td>48</td>\n",
       "      <td>0.0</td>\n",
       "      <td>1.0</td>\n",
       "      <td>76.0</td>\n",
       "      <td>1.0</td>\n",
       "      <td>...</td>\n",
       "      <td>0.0</td>\n",
       "      <td>0.0</td>\n",
       "      <td>0.0</td>\n",
       "      <td>1.0</td>\n",
       "      <td>0.0</td>\n",
       "      <td>0.0</td>\n",
       "      <td>0.0</td>\n",
       "      <td>0.0</td>\n",
       "      <td>0.0</td>\n",
       "      <td>0.0</td>\n",
       "    </tr>\n",
       "    <tr>\n",
       "      <th>2</th>\n",
       "      <td>124</td>\n",
       "      <td>43763.0</td>\n",
       "      <td>798.0</td>\n",
       "      <td>0.000000</td>\n",
       "      <td>0</td>\n",
       "      <td>0</td>\n",
       "      <td>0.0</td>\n",
       "      <td>1.0</td>\n",
       "      <td>40.0</td>\n",
       "      <td>0.0</td>\n",
       "      <td>...</td>\n",
       "      <td>0.0</td>\n",
       "      <td>0.0</td>\n",
       "      <td>0.0</td>\n",
       "      <td>1.0</td>\n",
       "      <td>0.0</td>\n",
       "      <td>0.0</td>\n",
       "      <td>0.0</td>\n",
       "      <td>0.0</td>\n",
       "      <td>0.0</td>\n",
       "      <td>0.0</td>\n",
       "    </tr>\n",
       "    <tr>\n",
       "      <th>3</th>\n",
       "      <td>125</td>\n",
       "      <td>3.0</td>\n",
       "      <td>1.0</td>\n",
       "      <td>3.000055</td>\n",
       "      <td>180</td>\n",
       "      <td>0</td>\n",
       "      <td>0.0</td>\n",
       "      <td>3.0</td>\n",
       "      <td>264.0</td>\n",
       "      <td>0.0</td>\n",
       "      <td>...</td>\n",
       "      <td>0.0</td>\n",
       "      <td>0.0</td>\n",
       "      <td>0.0</td>\n",
       "      <td>1.0</td>\n",
       "      <td>0.0</td>\n",
       "      <td>0.0</td>\n",
       "      <td>0.0</td>\n",
       "      <td>0.0</td>\n",
       "      <td>0.0</td>\n",
       "      <td>0.0</td>\n",
       "    </tr>\n",
       "    <tr>\n",
       "      <th>4</th>\n",
       "      <td>127</td>\n",
       "      <td>43763.0</td>\n",
       "      <td>40527.0</td>\n",
       "      <td>0.000000</td>\n",
       "      <td>0</td>\n",
       "      <td>0</td>\n",
       "      <td>0.0</td>\n",
       "      <td>1.0</td>\n",
       "      <td>40.0</td>\n",
       "      <td>0.0</td>\n",
       "      <td>...</td>\n",
       "      <td>0.0</td>\n",
       "      <td>0.0</td>\n",
       "      <td>0.0</td>\n",
       "      <td>1.0</td>\n",
       "      <td>0.0</td>\n",
       "      <td>0.0</td>\n",
       "      <td>0.0</td>\n",
       "      <td>0.0</td>\n",
       "      <td>0.0</td>\n",
       "      <td>0.0</td>\n",
       "    </tr>\n",
       "    <tr>\n",
       "      <th>...</th>\n",
       "      <td>...</td>\n",
       "      <td>...</td>\n",
       "      <td>...</td>\n",
       "      <td>...</td>\n",
       "      <td>...</td>\n",
       "      <td>...</td>\n",
       "      <td>...</td>\n",
       "      <td>...</td>\n",
       "      <td>...</td>\n",
       "      <td>...</td>\n",
       "      <td>...</td>\n",
       "      <td>...</td>\n",
       "      <td>...</td>\n",
       "      <td>...</td>\n",
       "      <td>...</td>\n",
       "      <td>...</td>\n",
       "      <td>...</td>\n",
       "      <td>...</td>\n",
       "      <td>...</td>\n",
       "      <td>...</td>\n",
       "      <td>...</td>\n",
       "    </tr>\n",
       "    <tr>\n",
       "      <th>192074</th>\n",
       "      <td>10388</td>\n",
       "      <td>123.0</td>\n",
       "      <td>123.0</td>\n",
       "      <td>0.004995</td>\n",
       "      <td>48</td>\n",
       "      <td>48</td>\n",
       "      <td>0.0</td>\n",
       "      <td>1.0</td>\n",
       "      <td>76.0</td>\n",
       "      <td>1.0</td>\n",
       "      <td>...</td>\n",
       "      <td>0.0</td>\n",
       "      <td>0.0</td>\n",
       "      <td>0.0</td>\n",
       "      <td>0.0</td>\n",
       "      <td>0.0</td>\n",
       "      <td>0.0</td>\n",
       "      <td>0.0</td>\n",
       "      <td>1.0</td>\n",
       "      <td>0.0</td>\n",
       "      <td>0.0</td>\n",
       "    </tr>\n",
       "    <tr>\n",
       "      <th>192075</th>\n",
       "      <td>10391</td>\n",
       "      <td>123.0</td>\n",
       "      <td>123.0</td>\n",
       "      <td>0.001736</td>\n",
       "      <td>48</td>\n",
       "      <td>48</td>\n",
       "      <td>0.0</td>\n",
       "      <td>1.0</td>\n",
       "      <td>76.0</td>\n",
       "      <td>1.0</td>\n",
       "      <td>...</td>\n",
       "      <td>0.0</td>\n",
       "      <td>0.0</td>\n",
       "      <td>0.0</td>\n",
       "      <td>0.0</td>\n",
       "      <td>0.0</td>\n",
       "      <td>0.0</td>\n",
       "      <td>0.0</td>\n",
       "      <td>1.0</td>\n",
       "      <td>0.0</td>\n",
       "      <td>0.0</td>\n",
       "    </tr>\n",
       "    <tr>\n",
       "      <th>192076</th>\n",
       "      <td>10392</td>\n",
       "      <td>123.0</td>\n",
       "      <td>123.0</td>\n",
       "      <td>0.005985</td>\n",
       "      <td>48</td>\n",
       "      <td>48</td>\n",
       "      <td>0.0</td>\n",
       "      <td>1.0</td>\n",
       "      <td>76.0</td>\n",
       "      <td>1.0</td>\n",
       "      <td>...</td>\n",
       "      <td>0.0</td>\n",
       "      <td>0.0</td>\n",
       "      <td>0.0</td>\n",
       "      <td>0.0</td>\n",
       "      <td>0.0</td>\n",
       "      <td>0.0</td>\n",
       "      <td>0.0</td>\n",
       "      <td>1.0</td>\n",
       "      <td>0.0</td>\n",
       "      <td>0.0</td>\n",
       "    </tr>\n",
       "    <tr>\n",
       "      <th>192077</th>\n",
       "      <td>10398</td>\n",
       "      <td>123.0</td>\n",
       "      <td>123.0</td>\n",
       "      <td>0.005227</td>\n",
       "      <td>48</td>\n",
       "      <td>48</td>\n",
       "      <td>0.0</td>\n",
       "      <td>1.0</td>\n",
       "      <td>76.0</td>\n",
       "      <td>1.0</td>\n",
       "      <td>...</td>\n",
       "      <td>0.0</td>\n",
       "      <td>0.0</td>\n",
       "      <td>0.0</td>\n",
       "      <td>0.0</td>\n",
       "      <td>0.0</td>\n",
       "      <td>0.0</td>\n",
       "      <td>0.0</td>\n",
       "      <td>1.0</td>\n",
       "      <td>0.0</td>\n",
       "      <td>0.0</td>\n",
       "    </tr>\n",
       "    <tr>\n",
       "      <th>192078</th>\n",
       "      <td>10399</td>\n",
       "      <td>123.0</td>\n",
       "      <td>123.0</td>\n",
       "      <td>0.001988</td>\n",
       "      <td>48</td>\n",
       "      <td>48</td>\n",
       "      <td>0.0</td>\n",
       "      <td>1.0</td>\n",
       "      <td>76.0</td>\n",
       "      <td>1.0</td>\n",
       "      <td>...</td>\n",
       "      <td>0.0</td>\n",
       "      <td>0.0</td>\n",
       "      <td>0.0</td>\n",
       "      <td>0.0</td>\n",
       "      <td>0.0</td>\n",
       "      <td>0.0</td>\n",
       "      <td>0.0</td>\n",
       "      <td>1.0</td>\n",
       "      <td>0.0</td>\n",
       "      <td>0.0</td>\n",
       "    </tr>\n",
       "  </tbody>\n",
       "</table>\n",
       "<p>192079 rows × 521 columns</p>\n",
       "</div>"
      ],
      "text/plain": [
       "        Unnamed: 0  shift_id.orig_p_1  shift_id.resp_p_1  shift_duration_1  \\\n",
       "0              120            43763.0            15976.0          0.000000   \n",
       "1              121              123.0              123.0          0.001239   \n",
       "2              124            43763.0              798.0          0.000000   \n",
       "3              125                3.0                1.0          3.000055   \n",
       "4              127            43763.0            40527.0          0.000000   \n",
       "...            ...                ...                ...               ...   \n",
       "192074       10388              123.0              123.0          0.004995   \n",
       "192075       10391              123.0              123.0          0.001736   \n",
       "192076       10392              123.0              123.0          0.005985   \n",
       "192077       10398              123.0              123.0          0.005227   \n",
       "192078       10399              123.0              123.0          0.001988   \n",
       "\n",
       "        shift_orig_bytes_1  shift_resp_bytes_1  shift_missed_bytes_1  \\\n",
       "0                        0                   0                   0.0   \n",
       "1                       48                  48                   0.0   \n",
       "2                        0                   0                   0.0   \n",
       "3                      180                   0                   0.0   \n",
       "4                        0                   0                   0.0   \n",
       "...                    ...                 ...                   ...   \n",
       "192074                  48                  48                   0.0   \n",
       "192075                  48                  48                   0.0   \n",
       "192076                  48                  48                   0.0   \n",
       "192077                  48                  48                   0.0   \n",
       "192078                  48                  48                   0.0   \n",
       "\n",
       "        shift_orig_pkts_1  shift_orig_ip_bytes_1  shift_resp_pkts_1  ...  \\\n",
       "0                     1.0                   40.0                0.0  ...   \n",
       "1                     1.0                   76.0                1.0  ...   \n",
       "2                     1.0                   40.0                0.0  ...   \n",
       "3                     3.0                  264.0                0.0  ...   \n",
       "4                     1.0                   40.0                0.0  ...   \n",
       "...                   ...                    ...                ...  ...   \n",
       "192074                1.0                   76.0                1.0  ...   \n",
       "192075                1.0                   76.0                1.0  ...   \n",
       "192076                1.0                   76.0                1.0  ...   \n",
       "192077                1.0                   76.0                1.0  ...   \n",
       "192078                1.0                   76.0                1.0  ...   \n",
       "\n",
       "        shift_conn_state_RSTOS0_20  shift_conn_state_RSTR_20  \\\n",
       "0                              0.0                       0.0   \n",
       "1                              0.0                       0.0   \n",
       "2                              0.0                       0.0   \n",
       "3                              0.0                       0.0   \n",
       "4                              0.0                       0.0   \n",
       "...                            ...                       ...   \n",
       "192074                         0.0                       0.0   \n",
       "192075                         0.0                       0.0   \n",
       "192076                         0.0                       0.0   \n",
       "192077                         0.0                       0.0   \n",
       "192078                         0.0                       0.0   \n",
       "\n",
       "        shift_conn_state_RSTRH_20  shift_conn_state_S0_20  \\\n",
       "0                             0.0                     1.0   \n",
       "1                             0.0                     1.0   \n",
       "2                             0.0                     1.0   \n",
       "3                             0.0                     1.0   \n",
       "4                             0.0                     1.0   \n",
       "...                           ...                     ...   \n",
       "192074                        0.0                     0.0   \n",
       "192075                        0.0                     0.0   \n",
       "192076                        0.0                     0.0   \n",
       "192077                        0.0                     0.0   \n",
       "192078                        0.0                     0.0   \n",
       "\n",
       "        shift_conn_state_S1_20  shift_conn_state_S2_20  \\\n",
       "0                          0.0                     0.0   \n",
       "1                          0.0                     0.0   \n",
       "2                          0.0                     0.0   \n",
       "3                          0.0                     0.0   \n",
       "4                          0.0                     0.0   \n",
       "...                        ...                     ...   \n",
       "192074                     0.0                     0.0   \n",
       "192075                     0.0                     0.0   \n",
       "192076                     0.0                     0.0   \n",
       "192077                     0.0                     0.0   \n",
       "192078                     0.0                     0.0   \n",
       "\n",
       "        shift_conn_state_S3_20  shift_conn_state_SF_20  \\\n",
       "0                          0.0                     0.0   \n",
       "1                          0.0                     0.0   \n",
       "2                          0.0                     0.0   \n",
       "3                          0.0                     0.0   \n",
       "4                          0.0                     0.0   \n",
       "...                        ...                     ...   \n",
       "192074                     0.0                     1.0   \n",
       "192075                     0.0                     1.0   \n",
       "192076                     0.0                     1.0   \n",
       "192077                     0.0                     1.0   \n",
       "192078                     0.0                     1.0   \n",
       "\n",
       "        shift_conn_state_SH_20  shift_conn_state_SHR_20  \n",
       "0                          0.0                      0.0  \n",
       "1                          0.0                      0.0  \n",
       "2                          0.0                      0.0  \n",
       "3                          0.0                      0.0  \n",
       "4                          0.0                      0.0  \n",
       "...                        ...                      ...  \n",
       "192074                     0.0                      0.0  \n",
       "192075                     0.0                      0.0  \n",
       "192076                     0.0                      0.0  \n",
       "192077                     0.0                      0.0  \n",
       "192078                     0.0                      0.0  \n",
       "\n",
       "[192079 rows x 521 columns]"
      ]
     },
     "execution_count": 7,
     "metadata": {},
     "output_type": "execute_result"
    }
   ],
   "source": [
    "df_benign"
   ]
  },
  {
   "cell_type": "code",
   "execution_count": 8,
   "id": "paperback-heritage",
   "metadata": {},
   "outputs": [],
   "source": [
    "del df['Unnamed: 0']\n",
    "del df_malicious['Unnamed: 0']\n",
    "del df_benign['Unnamed: 0']"
   ]
  },
  {
   "cell_type": "code",
   "execution_count": 9,
   "id": "bb8832a1",
   "metadata": {},
   "outputs": [
    {
     "name": "stdout",
     "output_type": "stream",
     "text": [
      "(1246845, 520)\n",
      "(192079, 520)\n"
     ]
    }
   ],
   "source": [
    "df = df.values\n",
    "df_malicious = df_malicious.values\n",
    "df_benign = df_benign.values\n",
    "\n",
    "print(df_malicious.shape)\n",
    "print(df_benign.shape)"
   ]
  },
  {
   "cell_type": "code",
   "execution_count": 10,
   "id": "2fb846bc",
   "metadata": {},
   "outputs": [],
   "source": [
    "scaler = MinMaxScaler()"
   ]
  },
  {
   "cell_type": "code",
   "execution_count": 11,
   "id": "2adb311d",
   "metadata": {},
   "outputs": [
    {
     "data": {
      "text/plain": [
       "MinMaxScaler()"
      ]
     },
     "execution_count": 11,
     "metadata": {},
     "output_type": "execute_result"
    }
   ],
   "source": [
    "scaler.fit(df_malicious)"
   ]
  },
  {
   "cell_type": "code",
   "execution_count": 12,
   "id": "bcc32b17",
   "metadata": {},
   "outputs": [],
   "source": [
    "normalized_malicious = scaler.transform(df_malicious)"
   ]
  },
  {
   "cell_type": "code",
   "execution_count": 13,
   "id": "d03c406e",
   "metadata": {},
   "outputs": [
    {
     "data": {
      "text/plain": [
       "(1246845, 520)"
      ]
     },
     "execution_count": 13,
     "metadata": {},
     "output_type": "execute_result"
    }
   ],
   "source": [
    "normalized_malicious.shape"
   ]
  },
  {
   "cell_type": "code",
   "execution_count": 14,
   "id": "48bf7d80",
   "metadata": {},
   "outputs": [],
   "source": [
    "normalized_benign = scaler.transform(df_benign)"
   ]
  },
  {
   "cell_type": "code",
   "execution_count": 15,
   "id": "898e3358",
   "metadata": {},
   "outputs": [
    {
     "data": {
      "text/plain": [
       "(192079, 520)"
      ]
     },
     "execution_count": 15,
     "metadata": {},
     "output_type": "execute_result"
    }
   ],
   "source": [
    "normalized_benign.shape"
   ]
  },
  {
   "cell_type": "code",
   "execution_count": 16,
   "id": "09ad332e",
   "metadata": {},
   "outputs": [
    {
     "name": "stdout",
     "output_type": "stream",
     "text": [
      "(1246845, 20, 26)\n",
      "(192079, 20, 26)\n"
     ]
    }
   ],
   "source": [
    "df_malicious_t = normalized_malicious.reshape(normalized_malicious.shape[0], 20, 26)\n",
    "df_benign_t = normalized_benign.reshape(normalized_benign.shape[0], 20, 26)\n",
    "\n",
    "print(df_malicious_t.shape)\n",
    "print(df_benign_t.shape)"
   ]
  },
  {
   "cell_type": "code",
   "execution_count": 17,
   "id": "805e71e0",
   "metadata": {},
   "outputs": [],
   "source": [
    "df_malicious_t = np.append(df_malicious_t, np.zeros((len(df_malicious_t),len(df_malicious_t[0]),1)), axis=2)"
   ]
  },
  {
   "cell_type": "code",
   "execution_count": 18,
   "id": "a204b1e9",
   "metadata": {},
   "outputs": [],
   "source": [
    "df_benign_t = np.append(df_benign_t, np.ones((len(df_benign_t),len(df_benign_t[0]),1)), axis=2)"
   ]
  },
  {
   "cell_type": "code",
   "execution_count": 19,
   "id": "470f7633",
   "metadata": {},
   "outputs": [
    {
     "data": {
      "text/plain": [
       "(1246845, 20, 27)"
      ]
     },
     "execution_count": 19,
     "metadata": {},
     "output_type": "execute_result"
    }
   ],
   "source": [
    "df_malicious_t.shape"
   ]
  },
  {
   "cell_type": "code",
   "execution_count": 20,
   "id": "73fdcc61",
   "metadata": {},
   "outputs": [
    {
     "data": {
      "text/plain": [
       "(192079, 20, 27)"
      ]
     },
     "execution_count": 20,
     "metadata": {},
     "output_type": "execute_result"
    }
   ],
   "source": [
    "df_benign_t.shape"
   ]
  },
  {
   "cell_type": "code",
   "execution_count": 21,
   "id": "b24a20fe",
   "metadata": {},
   "outputs": [
    {
     "name": "stdout",
     "output_type": "stream",
     "text": [
      "(1438924, 20, 27)\n"
     ]
    }
   ],
   "source": [
    "np_dataset = np.vstack([df_malicious_t, df_benign_t])\n",
    "\n",
    "print(np_dataset.shape)"
   ]
  },
  {
   "cell_type": "code",
   "execution_count": 22,
   "id": "98937482",
   "metadata": {},
   "outputs": [
    {
     "name": "stdout",
     "output_type": "stream",
     "text": [
      "(1438924, 20, 26)\n",
      "(1438924,)\n"
     ]
    }
   ],
   "source": [
    "x_data = np_dataset[:,:,:-1]\n",
    "labels = np_dataset[:, 0, -1]\n",
    "\n",
    "print(x_data.shape)\n",
    "print(labels.shape)"
   ]
  },
  {
   "cell_type": "code",
   "execution_count": 23,
   "id": "d2e7337d",
   "metadata": {},
   "outputs": [
    {
     "data": {
      "text/plain": [
       "(1438924, 2)"
      ]
     },
     "execution_count": 23,
     "metadata": {},
     "output_type": "execute_result"
    }
   ],
   "source": [
    "from tensorflow.keras.utils import to_categorical\n",
    "\n",
    "y_data = to_categorical(labels, num_classes=2)\n",
    "y_data.shape"
   ]
  },
  {
   "cell_type": "code",
   "execution_count": 24,
   "id": "touched-tanzania",
   "metadata": {},
   "outputs": [],
   "source": [
    "from sklearn.model_selection import train_test_split\n",
    "\n",
    "X_train, X_test, Y_train, Y_test = train_test_split(x_data, y_data, random_state=10, test_size=0.2)"
   ]
  },
  {
   "cell_type": "code",
   "execution_count": 25,
   "id": "lightweight-trail",
   "metadata": {},
   "outputs": [
    {
     "name": "stdout",
     "output_type": "stream",
     "text": [
      "(1151139, 20, 26) (1151139, 2)\n",
      "(287785, 20, 26) (287785, 2)\n"
     ]
    }
   ],
   "source": [
    "print(X_train.shape, Y_train.shape) # 학습데이터 및 정답레이블\n",
    "print(X_test.shape, Y_test.shape) #검증데이터 및 정답레이블"
   ]
  },
  {
   "cell_type": "code",
   "execution_count": 26,
   "id": "worst-restriction",
   "metadata": {},
   "outputs": [],
   "source": [
    "model = Sequential()"
   ]
  },
  {
   "cell_type": "code",
   "execution_count": 29,
   "id": "earned-advertiser",
   "metadata": {},
   "outputs": [],
   "source": [
    "model.add(GRU(units=64, activation='relu', input_shape=X_train.shape[1:3], return_sequences=False))\n",
    "model.add(Dropout(0.2))\n",
    "model.add(Dense(32,activation='relu'))\n",
    "model.add(Dropout(0.2))\n",
    "model.add(Dense(2, activation='softmax'))\n",
    "model.compile(loss='categorical_crossentropy', optimizer='adam', metrics=['accuracy'])\n"
   ]
  },
  {
   "cell_type": "code",
   "execution_count": 30,
   "id": "specified-duplicate",
   "metadata": {},
   "outputs": [
    {
     "name": "stdout",
     "output_type": "stream",
     "text": [
      "Model: \"sequential\"\n",
      "_________________________________________________________________\n",
      " Layer (type)                Output Shape              Param #   \n",
      "=================================================================\n",
      " gru (GRU)                   (None, 64)                17664     \n",
      "                                                                 \n",
      " dropout (Dropout)           (None, 64)                0         \n",
      "                                                                 \n",
      " dense (Dense)               (None, 32)                2080      \n",
      "                                                                 \n",
      " dropout_1 (Dropout)         (None, 32)                0         \n",
      "                                                                 \n",
      " dense_1 (Dense)             (None, 2)                 66        \n",
      "                                                                 \n",
      "=================================================================\n",
      "Total params: 19,810\n",
      "Trainable params: 19,810\n",
      "Non-trainable params: 0\n",
      "_________________________________________________________________\n"
     ]
    }
   ],
   "source": [
    "model.summary()"
   ]
  },
  {
   "cell_type": "code",
   "execution_count": 31,
   "id": "recognized-sunset",
   "metadata": {},
   "outputs": [],
   "source": [
    "import time"
   ]
  },
  {
   "cell_type": "code",
   "execution_count": 32,
   "id": "distinct-effort",
   "metadata": {},
   "outputs": [
    {
     "name": "stdout",
     "output_type": "stream",
     "text": [
      "program start...\n",
      "\n",
      "Epoch 1/10\n",
      "1125/1125 [==============================] - 53s 45ms/step - loss: 0.1843 - accuracy: 0.9178 - val_loss: 0.1474 - val_accuracy: 0.9264\n",
      "Epoch 2/10\n",
      "1125/1125 [==============================] - 45s 40ms/step - loss: 0.1497 - accuracy: 0.9263 - val_loss: 0.1503 - val_accuracy: 0.9268\n",
      "Epoch 3/10\n",
      "1125/1125 [==============================] - 47s 42ms/step - loss: 0.1440 - accuracy: 0.9282 - val_loss: 0.1415 - val_accuracy: 0.9254\n",
      "Epoch 4/10\n",
      "1125/1125 [==============================] - 47s 42ms/step - loss: 0.1540 - accuracy: 0.9273 - val_loss: 0.1407 - val_accuracy: 0.9280\n",
      "Epoch 5/10\n",
      "1125/1125 [==============================] - 48s 43ms/step - loss: 0.1428 - accuracy: 0.9274 - val_loss: 0.1394 - val_accuracy: 0.9280\n",
      "Epoch 6/10\n",
      "1125/1125 [==============================] - 48s 42ms/step - loss: 0.1400 - accuracy: 0.9291 - val_loss: 0.1362 - val_accuracy: 0.9321\n",
      "Epoch 7/10\n",
      "1125/1125 [==============================] - 50s 44ms/step - loss: 0.1362 - accuracy: 0.9314 - val_loss: 0.1312 - val_accuracy: 0.9331\n",
      "Epoch 8/10\n",
      "1125/1125 [==============================] - 49s 43ms/step - loss: 0.1379 - accuracy: 0.9310 - val_loss: 0.1351 - val_accuracy: 0.9331\n",
      "Epoch 9/10\n",
      "1125/1125 [==============================] - 49s 43ms/step - loss: 0.1325 - accuracy: 0.9323 - val_loss: 0.1364 - val_accuracy: 0.9316\n",
      "Epoch 10/10\n",
      "1125/1125 [==============================] - 48s 43ms/step - loss: 0.1331 - accuracy: 0.9320 - val_loss: 0.1291 - val_accuracy: 0.9332\n",
      "\n",
      "program end...\n",
      "\n",
      "time cost: \n",
      "488.8503158092499 seconds\n"
     ]
    }
   ],
   "source": [
    "start = time.time()\n",
    "print('program start...')\n",
    "print()\n",
    "\n",
    "history = model.fit(\n",
    "    X_train, \n",
    "    Y_train, \n",
    "    epochs = 10, \n",
    "    batch_size=1024, \n",
    "    validation_data=(X_test,Y_test),\n",
    "    verbose=1)\n",
    "\n",
    "print()\n",
    "end = time.time()\n",
    "print('program end...')\n",
    "print()\n",
    "print('time cost: ')\n",
    "print(end - start, 'seconds')"
   ]
  },
  {
   "cell_type": "code",
   "execution_count": 33,
   "id": "proper-payroll",
   "metadata": {},
   "outputs": [
    {
     "data": {
      "image/png": "[encoded data removed]",
      "text/plain": [
       "<Figure size 1152x720 with 2 Axes>"
      ]
     },
     "metadata": {
      "needs_background": "light"
     },
     "output_type": "display_data"
    }
   ],
   "source": [
    "fig, loss_ax = plt.subplots(figsize = (16,10))\n",
    "acc_ax = loss_ax.twinx()\n",
    "\n",
    "loss_ax.plot(history.history['loss'], 'y', label='train loss')\n",
    "loss_ax.plot(history.history['val_loss'], 'r', label='val loss')\n",
    "loss_ax.set_xlabel('epoch')\n",
    "loss_ax.set_ylabel('loss')\n",
    "loss_ax.legend(loc='upper left')\n",
    "\n",
    "acc_ax.plot(history.history['accuracy'], 'b', label='train accuracy')\n",
    "acc_ax.plot(history.history['val_accuracy'], 'g', label='val accuracy')\n",
    "acc_ax.set_ylabel('accuracy')\n",
    "acc_ax.legend(loc='upper right')\n",
    "\n",
    "plt.show()"
   ]
  },
  {
   "cell_type": "code",
   "execution_count": null,
   "id": "b8b14d93",
   "metadata": {},
   "outputs": [],
   "source": [
    "model.save('model.h5')"
   ]
  },
  {
   "cell_type": "code",
   "execution_count": null,
   "id": "1b25888f",
   "metadata": {},
   "outputs": [],
   "source": [
    "new_model = tf.keras.models.load_model('model.h5')"
   ]
  },
  {
   "cell_type": "code",
   "execution_count": null,
   "id": "cb7ea8ce",
   "metadata": {},
   "outputs": [
    {
     "data": {
      "text/plain": [
       "(327347, 2)"
      ]
     },
     "execution_count": 34,
     "metadata": {},
     "output_type": "execute_result"
    }
   ],
   "source": [
    "Y_test.shape"
   ]
  },
  {
   "cell_type": "code",
   "execution_count": null,
   "id": "d12945fb",
   "metadata": {},
   "outputs": [
    {
     "data": {
      "text/plain": [
       "(327347, 20, 26)"
      ]
     },
     "execution_count": 35,
     "metadata": {},
     "output_type": "execute_result"
    }
   ],
   "source": [
    "X_test.shape"
   ]
  },
  {
   "cell_type": "code",
   "execution_count": null,
   "id": "14a91dcb",
   "metadata": {},
   "outputs": [
    {
     "name": "stdout",
     "output_type": "stream",
     "text": [
      "10230/10230 [==============================] - 18s 2ms/step - loss: 0.1670 - accuracy: 0.9203\n"
     ]
    }
   ],
   "source": [
    "test_loss, test_acc = new_model.evaluate(X_test, Y_test, verbose=1)"
   ]
  },
  {
   "cell_type": "code",
   "execution_count": null,
   "id": "80395b9a",
   "metadata": {},
   "outputs": [],
   "source": [
    "y_pred = new_model.predict(X_test)"
   ]
  },
  {
   "cell_type": "code",
   "execution_count": null,
   "id": "be35b305",
   "metadata": {},
   "outputs": [
    {
     "name": "stdout",
     "output_type": "stream",
     "text": [
      "Classifiction Report :\n"
     ]
    },
    {
     "ename": "ValueError",
     "evalue": "Classification metrics can't handle a mix of multilabel-indicator and continuous-multioutput targets",
     "output_type": "error",
     "traceback": [
      "\u001b[1;31m---------------------------------------------------------------------------\u001b[0m",
      "\u001b[1;31mValueError\u001b[0m                                Traceback (most recent call last)",
      "\u001b[1;32mc:\\Users\\sang9\\deepLearning\\Anomaly-Detection-IoT23\\Models\\IoT23 - LSTM_benign&malicious.ipynb Cell 38'\u001b[0m in \u001b[0;36m<cell line: 4>\u001b[1;34m()\u001b[0m\n\u001b[0;32m      <a href='vscode-notebook-cell:/c%3A/Users/sang9/deepLearning/Anomaly-Detection-IoT23/Models/IoT23%20-%20LSTM_benign%26malicious.ipynb#ch0000037?line=0'>1</a>\u001b[0m \u001b[39mfrom\u001b[39;00m \u001b[39msklearn\u001b[39;00m\u001b[39m.\u001b[39;00m\u001b[39mmetrics\u001b[39;00m \u001b[39mimport\u001b[39;00m classification_report, confusion_matrix\n\u001b[0;32m      <a href='vscode-notebook-cell:/c%3A/Users/sang9/deepLearning/Anomaly-Detection-IoT23/Models/IoT23%20-%20LSTM_benign%26malicious.ipynb#ch0000037?line=2'>3</a>\u001b[0m \u001b[39mprint\u001b[39m(\u001b[39m\"\u001b[39m\u001b[39mClassifiction Report :\u001b[39m\u001b[39m\"\u001b[39m)\n\u001b[1;32m----> <a href='vscode-notebook-cell:/c%3A/Users/sang9/deepLearning/Anomaly-Detection-IoT23/Models/IoT23%20-%20LSTM_benign%26malicious.ipynb#ch0000037?line=3'>4</a>\u001b[0m \u001b[39mprint\u001b[39m(classification_report(Y_test, y_pred))\n",
      "File \u001b[1;32mc:\\Users\\sang9\\AppData\\Local\\Programs\\Python\\Python38\\lib\\site-packages\\sklearn\\metrics\\_classification.py:2110\u001b[0m, in \u001b[0;36mclassification_report\u001b[1;34m(y_true, y_pred, labels, target_names, sample_weight, digits, output_dict, zero_division)\u001b[0m\n\u001b[0;32m   <a href='file:///c%3A/Users/sang9/AppData/Local/Programs/Python/Python38/lib/site-packages/sklearn/metrics/_classification.py?line=1997'>1998</a>\u001b[0m \u001b[39mdef\u001b[39;00m \u001b[39mclassification_report\u001b[39m(\n\u001b[0;32m   <a href='file:///c%3A/Users/sang9/AppData/Local/Programs/Python/Python38/lib/site-packages/sklearn/metrics/_classification.py?line=1998'>1999</a>\u001b[0m     y_true,\n\u001b[0;32m   <a href='file:///c%3A/Users/sang9/AppData/Local/Programs/Python/Python38/lib/site-packages/sklearn/metrics/_classification.py?line=1999'>2000</a>\u001b[0m     y_pred,\n\u001b[1;32m   (...)\u001b[0m\n\u001b[0;32m   <a href='file:///c%3A/Users/sang9/AppData/Local/Programs/Python/Python38/lib/site-packages/sklearn/metrics/_classification.py?line=2006'>2007</a>\u001b[0m     zero_division\u001b[39m=\u001b[39m\u001b[39m\"\u001b[39m\u001b[39mwarn\u001b[39m\u001b[39m\"\u001b[39m,\n\u001b[0;32m   <a href='file:///c%3A/Users/sang9/AppData/Local/Programs/Python/Python38/lib/site-packages/sklearn/metrics/_classification.py?line=2007'>2008</a>\u001b[0m ):\n\u001b[0;32m   <a href='file:///c%3A/Users/sang9/AppData/Local/Programs/Python/Python38/lib/site-packages/sklearn/metrics/_classification.py?line=2008'>2009</a>\u001b[0m     \u001b[39m\"\"\"Build a text report showing the main classification metrics.\u001b[39;00m\n\u001b[0;32m   <a href='file:///c%3A/Users/sang9/AppData/Local/Programs/Python/Python38/lib/site-packages/sklearn/metrics/_classification.py?line=2009'>2010</a>\u001b[0m \n\u001b[0;32m   <a href='file:///c%3A/Users/sang9/AppData/Local/Programs/Python/Python38/lib/site-packages/sklearn/metrics/_classification.py?line=2010'>2011</a>\u001b[0m \u001b[39m    Read more in the :ref:`User Guide <classification_report>`.\u001b[39;00m\n\u001b[1;32m   (...)\u001b[0m\n\u001b[0;32m   <a href='file:///c%3A/Users/sang9/AppData/Local/Programs/Python/Python38/lib/site-packages/sklearn/metrics/_classification.py?line=2106'>2107</a>\u001b[0m \u001b[39m    <BLANKLINE>\u001b[39;00m\n\u001b[0;32m   <a href='file:///c%3A/Users/sang9/AppData/Local/Programs/Python/Python38/lib/site-packages/sklearn/metrics/_classification.py?line=2107'>2108</a>\u001b[0m \u001b[39m    \"\"\"\u001b[39;00m\n\u001b[1;32m-> <a href='file:///c%3A/Users/sang9/AppData/Local/Programs/Python/Python38/lib/site-packages/sklearn/metrics/_classification.py?line=2109'>2110</a>\u001b[0m     y_type, y_true, y_pred \u001b[39m=\u001b[39m _check_targets(y_true, y_pred)\n\u001b[0;32m   <a href='file:///c%3A/Users/sang9/AppData/Local/Programs/Python/Python38/lib/site-packages/sklearn/metrics/_classification.py?line=2111'>2112</a>\u001b[0m     \u001b[39mif\u001b[39;00m labels \u001b[39mis\u001b[39;00m \u001b[39mNone\u001b[39;00m:\n\u001b[0;32m   <a href='file:///c%3A/Users/sang9/AppData/Local/Programs/Python/Python38/lib/site-packages/sklearn/metrics/_classification.py?line=2112'>2113</a>\u001b[0m         labels \u001b[39m=\u001b[39m unique_labels(y_true, y_pred)\n",
      "File \u001b[1;32mc:\\Users\\sang9\\AppData\\Local\\Programs\\Python\\Python38\\lib\\site-packages\\sklearn\\metrics\\_classification.py:93\u001b[0m, in \u001b[0;36m_check_targets\u001b[1;34m(y_true, y_pred)\u001b[0m\n\u001b[0;32m     <a href='file:///c%3A/Users/sang9/AppData/Local/Programs/Python/Python38/lib/site-packages/sklearn/metrics/_classification.py?line=89'>90</a>\u001b[0m     y_type \u001b[39m=\u001b[39m {\u001b[39m\"\u001b[39m\u001b[39mmulticlass\u001b[39m\u001b[39m\"\u001b[39m}\n\u001b[0;32m     <a href='file:///c%3A/Users/sang9/AppData/Local/Programs/Python/Python38/lib/site-packages/sklearn/metrics/_classification.py?line=91'>92</a>\u001b[0m \u001b[39mif\u001b[39;00m \u001b[39mlen\u001b[39m(y_type) \u001b[39m>\u001b[39m \u001b[39m1\u001b[39m:\n\u001b[1;32m---> <a href='file:///c%3A/Users/sang9/AppData/Local/Programs/Python/Python38/lib/site-packages/sklearn/metrics/_classification.py?line=92'>93</a>\u001b[0m     \u001b[39mraise\u001b[39;00m \u001b[39mValueError\u001b[39;00m(\n\u001b[0;32m     <a href='file:///c%3A/Users/sang9/AppData/Local/Programs/Python/Python38/lib/site-packages/sklearn/metrics/_classification.py?line=93'>94</a>\u001b[0m         \u001b[39m\"\u001b[39m\u001b[39mClassification metrics can\u001b[39m\u001b[39m'\u001b[39m\u001b[39mt handle a mix of \u001b[39m\u001b[39m{0}\u001b[39;00m\u001b[39m and \u001b[39m\u001b[39m{1}\u001b[39;00m\u001b[39m targets\u001b[39m\u001b[39m\"\u001b[39m\u001b[39m.\u001b[39mformat(\n\u001b[0;32m     <a href='file:///c%3A/Users/sang9/AppData/Local/Programs/Python/Python38/lib/site-packages/sklearn/metrics/_classification.py?line=94'>95</a>\u001b[0m             type_true, type_pred\n\u001b[0;32m     <a href='file:///c%3A/Users/sang9/AppData/Local/Programs/Python/Python38/lib/site-packages/sklearn/metrics/_classification.py?line=95'>96</a>\u001b[0m         )\n\u001b[0;32m     <a href='file:///c%3A/Users/sang9/AppData/Local/Programs/Python/Python38/lib/site-packages/sklearn/metrics/_classification.py?line=96'>97</a>\u001b[0m     )\n\u001b[0;32m     <a href='file:///c%3A/Users/sang9/AppData/Local/Programs/Python/Python38/lib/site-packages/sklearn/metrics/_classification.py?line=98'>99</a>\u001b[0m \u001b[39m# We can't have more than one value on y_type => The set is no more needed\u001b[39;00m\n\u001b[0;32m    <a href='file:///c%3A/Users/sang9/AppData/Local/Programs/Python/Python38/lib/site-packages/sklearn/metrics/_classification.py?line=99'>100</a>\u001b[0m y_type \u001b[39m=\u001b[39m y_type\u001b[39m.\u001b[39mpop()\n",
      "\u001b[1;31mValueError\u001b[0m: Classification metrics can't handle a mix of multilabel-indicator and continuous-multioutput targets"
     ]
    }
   ],
   "source": [
    "from sklearn.metrics import classification_report, confusion_matrix\n",
    "\n",
    "print(\"Classifiction Report :\")\n",
    "print(classification_report(Y_test, y_pred))"
   ]
  }
 ],
 "metadata": {
  "interpreter": {
   "hash": "de22a0a9302f8c1a52d15189289baa3723d5196742bc01e5424548ff54995f8f"
  },
  "kernelspec": {
   "display_name": "Python 3.8.10 64-bit",
   "language": "python",
   "name": "python3"
  },
  "language_info": {
   "codemirror_mode": {
    "name": "ipython",
    "version": 3
   },
   "file_extension": ".py",
   "mimetype": "text/x-python",
   "name": "python",
   "nbconvert_exporter": "python",
   "pygments_lexer": "ipython3",
   "version": "3.8.10"
  }
 },
 "nbformat": 4,
 "nbformat_minor": 5
}
